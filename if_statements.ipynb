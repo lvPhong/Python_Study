{
 "cells": [
  {
   "cell_type": "markdown",
   "metadata": {},
   "source": [
    "# IF STATEMENTS"
   ]
  },
  {
   "cell_type": "markdown",
   "metadata": {},
   "source": [
    "# 1. Average_grades"
   ]
  },
  {
   "cell_type": "markdown",
   "metadata": {},
   "source": [
    "## a. Average_grades function"
   ]
  },
  {
   "cell_type": "code",
   "execution_count": 894,
   "metadata": {},
   "outputs": [],
   "source": [
    "import random\n",
    "import numpy as np\n",
    "import math \n",
    "from collections import Counter"
   ]
  },
  {
   "cell_type": "code",
   "execution_count": 942,
   "metadata": {},
   "outputs": [],
   "source": [
    "def generate_float_list(float_list_size, decimal_digits = 1, lower_bound_point = 0, upper_bound_point = 10):\n",
    "    # Generate a float numbers list \n",
    "    # 0*100->10*100/10^2 \n",
    "\n",
    "    # 6 <=\n",
    "    # float_list = []\n",
    "    # up_range = 10**(decimal_digits)\n",
    "    # for __ in range(float_list_size):\n",
    "    #     value = random.randint(lower_bound_point, 10*up_range)/up_range\n",
    "    #     float_list.append(value)\n",
    "    # return(float_list)\n",
    "\n",
    "    # float_list = []\n",
    "    # for i in range(float_list_size):\n",
    "    #     x = random.uniform(lower_bound_point, upper_bound_point)\n",
    "    #     float_list.append(round(x,decimal_digits))\n",
    "\n",
    "    float_list = [round(random.uniform(lower_bound_point, upper_bound_point),decimal_digits)  \n",
    "                    for i in range(float_list_size)]\n",
    "    \n",
    "    return float_list\n"
   ]
  },
  {
   "cell_type": "code",
   "execution_count": 943,
   "metadata": {},
   "outputs": [
    {
     "data": {
      "text/plain": [
       "[32.03, 38.1, 88.56, 35.37, 57.98, 21.85, 60.8, 76.79, 16.01, 45.92]"
      ]
     },
     "execution_count": 943,
     "metadata": {},
     "output_type": "execute_result"
    }
   ],
   "source": [
    "generate_float_list(10,2,12,100)"
   ]
  },
  {
   "cell_type": "code",
   "execution_count": 897,
   "metadata": {},
   "outputs": [
    {
     "data": {
      "text/plain": [
       "[8.9, 2.06, 9.91, 6.28]"
      ]
     },
     "execution_count": 897,
     "metadata": {},
     "output_type": "execute_result"
    }
   ],
   "source": [
    "generate_float_list(4,2)"
   ]
  },
  {
   "cell_type": "code",
   "execution_count": 898,
   "metadata": {},
   "outputs": [],
   "source": [
    "# generate_list_students_points\n",
    "def generate_list_students_points(num_students, all_kinds_of_points = 3):\n",
    "    list_students_points = []\n",
    "    for __ in range(num_students):\n",
    "        student_points = generate_float_list(all_kinds_of_points)\n",
    "        list_students_points.append(student_points)\n",
    "    return(list_students_points)"
   ]
  },
  {
   "cell_type": "markdown",
   "metadata": {},
   "source": [
    "### a. *average_grades function*"
   ]
  },
  {
   "cell_type": "code",
   "execution_count": 949,
   "metadata": {},
   "outputs": [],
   "source": [
    "def average_grades(student_points):\n",
    "\n",
    "    # student_points have attendance_point, mid_point, final_point\n",
    "    attendance_point, mid_point, final_point = student_points\n",
    "\n",
    "    # percent points\n",
    "    attendance_percent = 0.2\n",
    "    mid_percent = 0.2\n",
    "    final_percent = 1 - (attendance_percent + mid_percent)\n",
    "\n",
    "    x = attendance_percent * attendance_point + mid_percent * mid_point + final_percent * final_point\n",
    "    average_grade = round(x,2)\n",
    "    return average_grade"
   ]
  },
  {
   "cell_type": "code",
   "execution_count": 951,
   "metadata": {},
   "outputs": [
    {
     "name": "stdout",
     "output_type": "stream",
     "text": [
      "[6.8, 2.6, 0.5]\n",
      "2.18\n",
      "[7, 8, 9]\n",
      "8.4\n",
      "9.2\n"
     ]
    }
   ],
   "source": [
    "student1_points = generate_float_list(3)\n",
    "print(student1_points)\n",
    "print(average_grades(student1_points))\n",
    "\n",
    "student2_points = [7,8,9]\n",
    "print(student2_points)\n",
    "print(average_grades(student2_points))\n",
    "\n",
    "print(average_grades([10,9,9]))\n"
   ]
  },
  {
   "cell_type": "markdown",
   "metadata": {},
   "source": [
    "### b. generate students list points"
   ]
  },
  {
   "cell_type": "code",
   "execution_count": 901,
   "metadata": {},
   "outputs": [],
   "source": [
    "def generate_float_list(float_list_size, decimal_digits = 1, lower_bound_point = 0):\n",
    "    # Generate a float numbers list \n",
    "    float_list = []\n",
    "    up_range = 10**(decimal_digits)\n",
    "    for __ in range(float_list_size):\n",
    "        value = random.randint(lower_bound_point*up_range, 10*up_range)/up_range\n",
    "        float_list.append(value)\n",
    "    return(float_list)"
   ]
  },
  {
   "cell_type": "code",
   "execution_count": 902,
   "metadata": {},
   "outputs": [
    {
     "data": {
      "text/plain": [
       "[8.2, 8.6, 9.4]"
      ]
     },
     "execution_count": 902,
     "metadata": {},
     "output_type": "execute_result"
    }
   ],
   "source": [
    "generate_float_list(3,1,6)"
   ]
  },
  {
   "cell_type": "code",
   "execution_count": 903,
   "metadata": {},
   "outputs": [],
   "source": [
    "# generate_list_students_points\n",
    "def generate_list_students_points(num_students, all_kinds_of_points = 3,lower_bound_points =0):\n",
    "    list_students_points = []\n",
    "    decimal_digits = 1\n",
    "    for __ in range(num_students):\n",
    "        student_points = generate_float_list(all_kinds_of_points,decimal_digits,lower_bound_points)\n",
    "        list_students_points.append(student_points)\n",
    "        \n",
    "    return list_students_points"
   ]
  },
  {
   "cell_type": "code",
   "execution_count": 904,
   "metadata": {},
   "outputs": [
    {
     "data": {
      "text/plain": [
       "[[9.3, 6.2, 9.7],\n",
       " [7.0, 6.3, 9.8],\n",
       " [10.0, 9.0, 8.8],\n",
       " [6.4, 6.7, 9.9],\n",
       " [8.2, 7.1, 6.6],\n",
       " [9.0, 8.5, 8.2],\n",
       " [8.3, 9.6, 8.6],\n",
       " [9.2, 8.2, 9.8],\n",
       " [7.1, 9.5, 7.6],\n",
       " [8.0, 8.9, 9.5],\n",
       " [9.5, 8.9, 7.8],\n",
       " [10.0, 9.0, 8.2],\n",
       " [6.8, 6.0, 8.7],\n",
       " [6.0, 7.4, 7.1],\n",
       " [7.5, 7.0, 6.8],\n",
       " [9.7, 6.7, 7.1],\n",
       " [8.7, 8.1, 8.4],\n",
       " [6.7, 6.9, 9.9],\n",
       " [9.0, 6.3, 6.4],\n",
       " [6.1, 8.0, 8.0]]"
      ]
     },
     "execution_count": 904,
     "metadata": {},
     "output_type": "execute_result"
    }
   ],
   "source": [
    "# ví dụ : Tạo một list chứa 20 phần tử, mỗi phần tử gồm 3 thành phần, các thành phần >=6\n",
    "generate_list_students_points(20,3,6)"
   ]
  },
  {
   "cell_type": "code",
   "execution_count": 905,
   "metadata": {},
   "outputs": [
    {
     "data": {
      "text/plain": [
       "[[8.5],\n",
       " [8.4],\n",
       " [7.0],\n",
       " [8.8],\n",
       " [7.9],\n",
       " [9.0],\n",
       " [9.4],\n",
       " [9.2],\n",
       " [9.6],\n",
       " [7.7],\n",
       " [9.4],\n",
       " [9.3],\n",
       " [8.6],\n",
       " [9.7],\n",
       " [6.8],\n",
       " [9.2],\n",
       " [8.1],\n",
       " [9.3],\n",
       " [10.0],\n",
       " [6.8]]"
      ]
     },
     "execution_count": 905,
     "metadata": {},
     "output_type": "execute_result"
    }
   ],
   "source": [
    "# Ví dụ : Tạo một list chứa 20 phần tử, mỗi phần tử gồm 1 thành phần, các thành phần >=6\n",
    "generate_list_students_points(20,1,6)"
   ]
  },
  {
   "cell_type": "code",
   "execution_count": 906,
   "metadata": {},
   "outputs": [],
   "source": [
    "def generate_list_students_points_custom(num_students,  all_kinds_of_points = 3, percent_students = 0.5,lower_bound_point = 6):\n",
    "    # list_students_points_custom = []\n",
    "    \n",
    "    # list_students_points_custom = generate_list_students_points(num_students,2)\n",
    "\n",
    "    students_geq_lower_bound_point = int(num_students/2 + 1)\n",
    "    \n",
    "    list_points_geq_lower_bound_point = generate_list_students_points(students_geq_lower_bound_point, all_kinds_of_points, lower_bound_point)\n",
    "\n",
    "    list_students_points_rest = generate_list_students_points(num_students - students_geq_lower_bound_point ,all_kinds_of_points, 0)\n",
    "\n",
    "    list_students_points_custom = list_points_geq_lower_bound_point + list_students_points_rest\n",
    "\n",
    "    return list_students_points_custom"
   ]
  },
  {
   "cell_type": "code",
   "execution_count": 907,
   "metadata": {},
   "outputs": [
    {
     "name": "stdout",
     "output_type": "stream",
     "text": [
      "index \t points \t average_grades\n",
      "1  \t [7.4, 7.0, 8.5]  \t 7.98\n",
      "2  \t [9.1, 6.4, 6.5]  \t 7.0\n",
      "3  \t [9.5, 7.6, 8.2]  \t 8.34\n",
      "4  \t [9.4, 6.2, 8.2]  \t 8.04\n",
      "5  \t [7.7, 7.1, 8.0]  \t 7.76\n",
      "6  \t [9.5, 8.2, 9.6]  \t 9.3\n",
      "7  \t [7.4, 8.3, 8.5]  \t 8.24\n",
      "8  \t [7.4, 8.5, 9.3]  \t 8.76\n",
      "9  \t [6.6, 6.5, 7.8]  \t 7.3\n",
      "10  \t [6.5, 6.2, 7.5]  \t 7.04\n",
      "11  \t [6.5, 6.2, 8.1]  \t 7.4\n",
      "12  \t [4.3, 6.2, 8.0]  \t 6.9\n",
      "13  \t [3.0, 2.2, 8.9]  \t 6.38\n",
      "14  \t [5.0, 7.2, 5.9]  \t 5.98\n",
      "15  \t [1.8, 2.9, 2.1]  \t 2.2\n",
      "16  \t [6.2, 0.4, 1.5]  \t 2.22\n",
      "17  \t [5.4, 5.2, 9.0]  \t 7.52\n",
      "18  \t [4.6, 7.6, 7.8]  \t 7.12\n",
      "19  \t [9.8, 6.8, 9.9]  \t 9.26\n",
      "20  \t [8.4, 2.1, 4.0]  \t 4.5\n"
     ]
    }
   ],
   "source": [
    "# tạo một list gồm điểm của 20 sinh viên, mỗi phần tử gồm 3 đầu điểm, có trên 50% số sinh viên có điểm thành phần lớn hơn 6\n",
    "nums_students = 20\n",
    "students_points_list = generate_list_students_points_custom(nums_students, 3, 0.5, 6)\n",
    "\n",
    "# + tính điểm trung bình của 20 sinh viên trên\n",
    "print(\"index \\t points \\t average_grades\")\n",
    "for index, student_point in enumerate(students_points_list):\n",
    "    print(index + 1, \" \\t\",student_point,\" \\t\", average_grades(student_point))\n",
    "    "
   ]
  },
  {
   "cell_type": "markdown",
   "metadata": {},
   "source": [
    "> check LETTER POINT (A+  A  B+  B  C+  C  D+  D  F)"
   ]
  },
  {
   "cell_type": "code",
   "execution_count": 908,
   "metadata": {},
   "outputs": [],
   "source": [
    "def letter_point(student_point):\n",
    "    if student_point < 4.0:\n",
    "        letter_point = 'F'\n",
    "    elif student_point < 5:\n",
    "        letter_point = 'D'\n",
    "    elif student_point < 6.5:\n",
    "        letter_point = 'C'\n",
    "    elif student_point < 8:\n",
    "        letter_point = 'B'\n",
    "    elif student_point < 9:\n",
    "        letter_point = 'A'\n",
    "    else:\n",
    "        letter_point = 'A+'\n",
    "    \n",
    "    return letter_point\n",
    "\n",
    "        "
   ]
  },
  {
   "cell_type": "code",
   "execution_count": 909,
   "metadata": {},
   "outputs": [
    {
     "name": "stdout",
     "output_type": "stream",
     "text": [
      "1 \t [8.0, 10.0, 7.9] \t 8.34 \t A\n",
      "3 \t [8.9, 9.0, 9.2] \t 9.1 \t A+\n",
      "4 \t [9.5, 10.0, 8.2] \t 8.82 \t A\n",
      "5 \t [8.1, 9.3, 7.6] \t 8.04 \t A\n",
      "6 \t [8.0, 9.9, 8.6] \t 8.74 \t A\n",
      "7 \t [9.4, 9.8, 8.1] \t 8.7 \t A\n"
     ]
    }
   ],
   "source": [
    "nums_students = 20\n",
    "students_points_list = generate_list_students_points_custom(nums_students, 3, 0.5, 6)\n",
    "\n",
    "student_geq_B = []\n",
    "for index, student_point in enumerate(students_points_list):\n",
    "    value = average_grades(student_point)\n",
    "    if value > 8:\n",
    "        student_geq_B.append(letter_point(value))\n",
    "        print(index + 1,\"\\t\",student_point,\"\\t\",average_grades(student_point),\"\\t\", letter_point(value))\n"
   ]
  },
  {
   "cell_type": "markdown",
   "metadata": {},
   "source": [
    "# 2. Tic - Tac - Toe"
   ]
  },
  {
   "cell_type": "code",
   "execution_count": 910,
   "metadata": {},
   "outputs": [
    {
     "name": "stdout",
     "output_type": "stream",
     "text": [
      "[0, 0, 1, 0, 1, 0, 0, 0, 0]\n"
     ]
    }
   ],
   "source": [
    "# test\n",
    "#tic_tac_toe_input\n",
    "ttt_input = [value % 2 for value in random.sample(range(100,1000),9)]\n",
    "print(ttt_input)"
   ]
  },
  {
   "cell_type": "code",
   "execution_count": 911,
   "metadata": {},
   "outputs": [
    {
     "name": "stdout",
     "output_type": "stream",
     "text": [
      "[[0 0 1]\n",
      " [0 0 0]\n",
      " [1 0 0]]\n"
     ]
    }
   ],
   "source": [
    "import numpy as np\n",
    "# 2\n",
    "nRows = 3\n",
    "nCols = 3\n",
    "tic_tac_toe_board = np.random.randint(2, size=(nRows, nCols))\n",
    "\n",
    "print(tic_tac_toe_board)"
   ]
  },
  {
   "cell_type": "code",
   "execution_count": 912,
   "metadata": {},
   "outputs": [
    {
     "name": "stdout",
     "output_type": "stream",
     "text": [
      "tic_tac_toe_board \n",
      " [[1 1 1]\n",
      " [0 0 0]\n",
      " [0 1 0]]\n",
      "nRows: [[1, 1, 1], [0, 0, 0], [0, 1, 0]]\n",
      "nCols:  [[1, 0, 0], [1, 0, 1], [1, 0, 0]]\n",
      "nDiagonals:  [[1, 0, 0], [1, 0, 0]]\n",
      "[0, 0, 0] [1, 1, 1]\n",
      "nAll_kinds_of_tic_tac_toe [[1, 1, 1], [0, 0, 0], [0, 1, 0], [1, 0, 0], [1, 0, 1], [1, 0, 0], [1, 0, 0], [1, 0, 0]]\n",
      "5 4\n",
      "5\n"
     ]
    }
   ],
   "source": [
    "## test code\n",
    "tic_tac_toe_size_board = 3\n",
    "tic_tac_toe_input = np.random.randint(2, size=(tic_tac_toe_size_board, tic_tac_toe_size_board))\n",
    "\n",
    "print(\"tic_tac_toe_board \\n\",tic_tac_toe_input)\n",
    "\n",
    "nRows = [row.tolist() for row in tic_tac_toe_input]\n",
    "nCols = [row.tolist() for row in tic_tac_toe_input.transpose()]\n",
    "\n",
    "print(\"nRows:\", nRows)\n",
    "\n",
    "print(\"nCols: \", nCols)\n",
    "# nDiagonals = [[tic_tac_toe_input[i][i] for i in range(tic_tac_toe_size_board)],[tic_tac_toe_input[i][tic_tac_toe_size_board - 1- i] for i in range(tic_tac_toe_size_board)]]\n",
    "nDiagonals = [\n",
    "                [tic_tac_toe_input[i][i] for i in range(tic_tac_toe_size_board)] \n",
    "                ,\n",
    "                [tic_tac_toe_input[i][tic_tac_toe_size_board -1-i] for i in range(tic_tac_toe_size_board)]\n",
    "                ]\n",
    "print(\"nDiagonals: \",nDiagonals)\n",
    "\n",
    "nAll_kinds_of_tic_tac_toe = nRows + nCols + nDiagonals\n",
    "\n",
    "winner_conditions = [[0,0,0], [1,1,1]] \n",
    "\n",
    "print(winner_conditions[0], winner_conditions[1])\n",
    "\n",
    "print(\"nAll_kinds_of_tic_tac_toe\",nAll_kinds_of_tic_tac_toe)\n",
    "\n",
    "res = dict(sum(map(Counter, tic_tac_toe_input), Counter()))\n",
    "\n",
    "# print(str(res))\n",
    "print(res[0], res[1])\n",
    "\n",
    "print(max(res.values()))"
   ]
  },
  {
   "cell_type": "code",
   "execution_count": 913,
   "metadata": {},
   "outputs": [],
   "source": [
    "# test\n",
    "def convert_ttt_input_to_matrix(maxtrix_size = 3):\n",
    "    n = maxtrix_size**2\n",
    "    first = int(n/2+1)\n",
    "    ttt_input_list_0 = [0]*first + [1]*(n-first)\n",
    "    ttt_input_list_1 = [1]*first + [0]*(n-first)\n",
    "    for i in [0,1]:\n",
    "        matrix = []\n",
    "        while ttt_input_list_0 != []:\n",
    "            matrix.append(ttt_input_list_0[:maxtrix_size])\n",
    "            ttt_input_list_0 = ttt_input_list_0[maxtrix_size:]\n",
    "    return matrix"
   ]
  },
  {
   "cell_type": "code",
   "execution_count": 914,
   "metadata": {},
   "outputs": [
    {
     "data": {
      "text/plain": [
       "[]"
      ]
     },
     "execution_count": 914,
     "metadata": {},
     "output_type": "execute_result"
    }
   ],
   "source": [
    "convert_ttt_input_to_matrix(3)"
   ]
  },
  {
   "cell_type": "markdown",
   "metadata": {},
   "source": [
    "## tic-toc-toe"
   ]
  },
  {
   "cell_type": "code",
   "execution_count": 915,
   "metadata": {},
   "outputs": [],
   "source": [
    "def create_input_tic_tac_toe(tic_tac_toe_size_board=3):\n",
    "    n = tic_tac_toe_size_board**2\n",
    "    first_steps = int(n/2 + 1)\n",
    "\n",
    "    ttt_input_list_0 = [0]*first_steps+ [1]*(n-first_steps)\n",
    "    ttt_input_list_1 = [1]*first_steps+ [0]*(n-first_steps)\n",
    "\n",
    "    random.shuffle(ttt_input_list_0)\n",
    "    random.shuffle(ttt_input_list_1)\n",
    "\n",
    "    first_0 = ttt_input_list_0\n",
    "    first_1 = ttt_input_list_1\n",
    "\n",
    "    matrix_0 = []\n",
    "    while ttt_input_list_0 != []:\n",
    "        matrix_0.append(ttt_input_list_0[:tic_tac_toe_size_board])\n",
    "        ttt_input_list_0 = ttt_input_list_0[tic_tac_toe_size_board:]\n",
    "\n",
    "    matrix_1 = []\n",
    "    while ttt_input_list_1 != []:\n",
    "        matrix_1.append(ttt_input_list_1[:tic_tac_toe_size_board])\n",
    "        ttt_input_list_1 = ttt_input_list_1[tic_tac_toe_size_board:]\n",
    "    option = random.randint(0,1) \n",
    "    if option == 0:\n",
    "        return matrix_0\n",
    "    else:\n",
    "        return matrix_1"
   ]
  },
  {
   "cell_type": "code",
   "execution_count": 916,
   "metadata": {},
   "outputs": [],
   "source": [
    "from collections import Counter\n",
    "import numpy as np\n",
    "\n",
    "def tic_tac_toe(tic_tac_toe_size_board = 3):\n",
    "    # tic_tac_toe_input = np.random.randint(2, size=(tic_tac_toe_size_board, tic_tac_toe_size_board))\n",
    "    tic_tac_toe_input = np.array(create_input_tic_tac_toe(tic_tac_toe_size_board))\n",
    "    print(tic_tac_toe_input)\n",
    "    nRows = [row.tolist() for row in tic_tac_toe_input]\n",
    "    nCols = [row.tolist() for row in tic_tac_toe_input.transpose()]\n",
    "\n",
    "    nDiagonals = [\n",
    "                [tic_tac_toe_input[i][i] for i in range(tic_tac_toe_size_board)] \n",
    "                , \n",
    "                [tic_tac_toe_input[i][tic_tac_toe_size_board - 1 - i] for i in range(tic_tac_toe_size_board)]\n",
    "                ]\n",
    "    \n",
    "    nAll_kinds_of_tic_tac_toe = nRows + nCols + nDiagonals\n",
    "    \n",
    "    winner_conditions = [\n",
    "                        [0 for _ in range(tic_tac_toe_size_board)]\n",
    "                        , \n",
    "                        [1 for _ in range(tic_tac_toe_size_board)]\n",
    "                        ]\n",
    "\n",
    "    # first player\n",
    "    res = dict(sum(map(Counter, tic_tac_toe_input), Counter()))\n",
    "    if res[0] > res[1]:\n",
    "        first_player = 0\n",
    "        if winner_conditions[0] in nAll_kinds_of_tic_tac_toe:\n",
    "            winner = 0\n",
    "            return print(\"player[0] win!\")\n",
    "    \n",
    "    if res[1] > res[0]:\n",
    "        first_player = 1\n",
    "        if winner_conditions[1] in nAll_kinds_of_tic_tac_toe:\n",
    "            winner = 1\n",
    "            return print(\"player[1] win!\")\n",
    "    if (winner_conditions[0] not in nAll_kinds_of_tic_tac_toe) and (winner_conditions[1] not in nAll_kinds_of_tic_tac_toe):\n",
    "        return print(\"Draw!\")\n",
    "    "
   ]
  },
  {
   "cell_type": "code",
   "execution_count": 921,
   "metadata": {},
   "outputs": [
    {
     "name": "stdout",
     "output_type": "stream",
     "text": [
      "[[1 0 0 1 0]\n",
      " [0 1 0 0 1]\n",
      " [0 1 1 0 0]\n",
      " [1 1 0 0 1]\n",
      " [1 1 1 0 1]]\n",
      "Draw!\n"
     ]
    }
   ],
   "source": [
    "tic_tac_toe(5)"
   ]
  },
  {
   "cell_type": "code",
   "execution_count": 922,
   "metadata": {},
   "outputs": [
    {
     "name": "stdout",
     "output_type": "stream",
     "text": [
      "[[0 1 0 1]\n",
      " [0 1 1 0]\n",
      " [0 1 1 0]\n",
      " [0 0 1 0]]\n",
      "player[0] win!\n"
     ]
    }
   ],
   "source": [
    "tic_tac_toe(4)"
   ]
  },
  {
   "cell_type": "code",
   "execution_count": 924,
   "metadata": {},
   "outputs": [
    {
     "name": "stdout",
     "output_type": "stream",
     "text": [
      "[[1 1 0]\n",
      " [1 1 1]\n",
      " [0 0 0]]\n",
      "player[1] win!\n"
     ]
    }
   ],
   "source": [
    "tic_tac_toe()"
   ]
  },
  {
   "cell_type": "markdown",
   "metadata": {},
   "source": [
    "# 4. a-->f "
   ]
  },
  {
   "cell_type": "code",
   "execution_count": null,
   "metadata": {},
   "outputs": [],
   "source": []
  }
 ],
 "metadata": {
  "interpreter": {
   "hash": "c7bee57b26c58cc7fda6ebbba85bbc81dac28551bf90007b61a71bf47794e6d8"
  },
  "kernelspec": {
   "display_name": "Python 3.9.7 64-bit",
   "name": "python3"
  },
  "language_info": {
   "codemirror_mode": {
    "name": "ipython",
    "version": 3
   },
   "file_extension": ".py",
   "mimetype": "text/x-python",
   "name": "python",
   "nbconvert_exporter": "python",
   "pygments_lexer": "ipython3",
   "version": "3.9.7"
  },
  "orig_nbformat": 4
 },
 "nbformat": 4,
 "nbformat_minor": 2
}
