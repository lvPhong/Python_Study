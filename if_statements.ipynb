{
 "cells": [
  {
   "cell_type": "markdown",
   "metadata": {},
   "source": [
    "# IF STATEMENTS"
   ]
  },
  {
   "cell_type": "markdown",
   "metadata": {},
   "source": [
    "# 1. Average_grades"
   ]
  },
  {
   "cell_type": "markdown",
   "metadata": {},
   "source": [
    "## a. Average_grades function"
   ]
  },
  {
   "cell_type": "code",
   "execution_count": 167,
   "metadata": {},
   "outputs": [],
   "source": [
    "import random\n",
    "import numpy as np\n",
    "import math \n",
    "from collections import Counter"
   ]
  },
  {
   "cell_type": "markdown",
   "metadata": {},
   "source": [
    "### a. *average_grades function*"
   ]
  },
  {
   "cell_type": "code",
   "execution_count": 168,
   "metadata": {},
   "outputs": [],
   "source": [
    "def average_grades(stu_points):\n",
    "\n",
    "    attendance_point, mid_point, final_point = stu_points\n",
    "\n",
    "    # percent points\n",
    "    attendance_percent = 0.2\n",
    "    mid_percent = 0.2\n",
    "    final_percent = 1 - (attendance_percent + mid_percent)\n",
    "\n",
    "    x = attendance_percent * attendance_point + mid_percent * mid_point + final_percent * final_point\n",
    "    average_grade = round(x,2)\n",
    "    \n",
    "    return average_grade"
   ]
  },
  {
   "cell_type": "markdown",
   "metadata": {},
   "source": [
    "## b. generate students list points"
   ]
  },
  {
   "cell_type": "code",
   "execution_count": 169,
   "metadata": {},
   "outputs": [],
   "source": [
    "def gen_float_list(number, lower_bound, upper_bound):\n",
    "    float_list = []\n",
    "\n",
    "    for i in range(number):\n",
    "        value_ = random.uniform(lower_bound, upper_bound)\n",
    "        value = round(value_, 2)\n",
    "        float_list.append(value)\n",
    "        \n",
    "    return float_list"
   ]
  },
  {
   "cell_type": "code",
   "execution_count": 170,
   "metadata": {},
   "outputs": [],
   "source": [
    "# generate_list_students_points\n",
    "def gen_list_students_points(num_students, all_kinds_of_points, lower_bound, upper_bound):\n",
    "    list_stu_points = []\n",
    "    \n",
    "    for __ in range(num_students):\n",
    "        student_points = gen_float_list(all_kinds_of_points, lower_bound, upper_bound)\n",
    "        list_stu_points.append(student_points)\n",
    "         \n",
    "    return list_stu_points"
   ]
  },
  {
   "cell_type": "markdown",
   "metadata": {},
   "source": [
    "> check LETTER POINT (A+  A  B+  B  C+  C  D+  D  F)"
   ]
  },
  {
   "cell_type": "code",
   "execution_count": 171,
   "metadata": {},
   "outputs": [],
   "source": [
    "def letter_point(student_point):\n",
    "    if student_point < 4.0:\n",
    "        letter_point = 'F'\n",
    "    elif student_point < 5:\n",
    "        letter_point = 'D'\n",
    "    elif student_point < 6.5:\n",
    "        letter_point = 'C'\n",
    "    elif student_point < 8:\n",
    "        letter_point = 'B'\n",
    "    elif student_point < 9:\n",
    "        letter_point = 'A'\n",
    "    else:\n",
    "        letter_point = 'A+'\n",
    "    \n",
    "    return letter_point"
   ]
  },
  {
   "cell_type": "code",
   "execution_count": 172,
   "metadata": {},
   "outputs": [],
   "source": [
    "# create 20 student's points\n",
    "\n",
    "num_students = 20\n",
    "lower_score = 6\n",
    "percent_lower_score = 50/100\n",
    "\n",
    "stu_geq_lower_score = math.floor(num_students * percent_lower_score)\n",
    "\n",
    "# attendance points and mid points \n",
    "stu_points = gen_list_students_points(num_students, 2, 0 ,10)\n",
    "\n",
    "# final points\n",
    "final_points = gen_float_list(stu_geq_lower_score, 6, 10) \\\n",
    "               + gen_float_list(num_students - stu_geq_lower_score, 0, 10)\n",
    "\n",
    "for i in range(num_students):\n",
    "    stu_points[i].append(final_points[i])"
   ]
  },
  {
   "cell_type": "code",
   "execution_count": 173,
   "metadata": {},
   "outputs": [],
   "source": [
    "stu_average_points = []\n",
    "stu_letter_points = []\n",
    "\n",
    "for i in range(num_students):\n",
    "    stu_point = stu_points[i]\n",
    "    \n",
    "    average_grade = average_grades(stu_point)\n",
    "    stu_average_points.append(average_grade)\n",
    "\n",
    "    letter = letter_point(average_grade)\n",
    "    stu_letter_points.append(letter)\n"
   ]
  },
  {
   "cell_type": "code",
   "execution_count": 174,
   "metadata": {},
   "outputs": [
    {
     "name": "stdout",
     "output_type": "stream",
     "text": [
      "list points of students \n",
      "\n",
      "Index \t points \t\t average_points \t letter_points \n",
      "\n",
      "1 \t [6.1, 1.5, 9.69] \t\t 7.33 \t\t B \n",
      "\n",
      "2 \t [7.13, 0.94, 6.98] \t\t 5.8 \t\t C \n",
      "\n",
      "3 \t [3.65, 5.14, 6.89] \t\t 5.89 \t\t C \n",
      "\n",
      "4 \t [9.87, 9.41, 7.1] \t\t 8.12 \t\t A \n",
      "\n",
      "5 \t [4.35, 7.8, 8.05] \t\t 7.26 \t\t B \n",
      "\n",
      "6 \t [7.65, 1.44, 9.96] \t\t 7.79 \t\t B \n",
      "\n",
      "7 \t [9.95, 6.83, 7.84] \t\t 8.06 \t\t A \n",
      "\n",
      "8 \t [1.76, 4.62, 8.07] \t\t 6.12 \t\t C \n",
      "\n",
      "9 \t [8.99, 7.98, 7.34] \t\t 7.8 \t\t B \n",
      "\n",
      "10 \t [8.62, 0.86, 9.84] \t\t 7.8 \t\t B \n",
      "\n",
      "11 \t [3.3, 9.77, 4.94] \t\t 5.58 \t\t C \n",
      "\n",
      "12 \t [7.76, 0.64, 4.62] \t\t 4.45 \t\t D \n",
      "\n",
      "13 \t [4.92, 9.78, 8.1] \t\t 7.8 \t\t B \n",
      "\n",
      "14 \t [4.33, 6.71, 7.53] \t\t 6.73 \t\t B \n",
      "\n",
      "15 \t [9.25, 0.97, 9.3] \t\t 7.62 \t\t B \n",
      "\n",
      "16 \t [1.87, 3.43, 1.94] \t\t 2.22 \t\t F \n",
      "\n",
      "17 \t [6.91, 2.28, 2.97] \t\t 3.62 \t\t F \n",
      "\n",
      "18 \t [4.7, 2.38, 7.89] \t\t 6.15 \t\t C \n",
      "\n",
      "19 \t [4.23, 2.01, 0.3] \t\t 1.43 \t\t F \n",
      "\n",
      "20 \t [0.53, 4.2, 6.53] \t\t 4.86 \t\t D \n",
      "\n"
     ]
    }
   ],
   "source": [
    "print(\"list points of students \\n\")\n",
    "print(\"Index\", \"\\t\", \"points\", \"\\t\\t\",\n",
    "        \"average_points\", \"\\t\",\n",
    "        \"letter_points\", \"\\n\"\n",
    "        )\n",
    "for i in range(num_students):\n",
    "    print(i+1, \"\\t\", stu_points[i], \"\\t\\t\",\n",
    "        stu_average_points[i], \"\\t\\t\",\n",
    "        stu_letter_points[i], \"\\n\"\n",
    "        )"
   ]
  },
  {
   "cell_type": "markdown",
   "metadata": {},
   "source": [
    "## c. list of students has letter point greater or equal than B"
   ]
  },
  {
   "cell_type": "code",
   "execution_count": 175,
   "metadata": {},
   "outputs": [
    {
     "name": "stdout",
     "output_type": "stream",
     "text": [
      "list of students has letter point greater or equal than B \n",
      "\n",
      "Index \t points \t letter points\n",
      "1 \t [6.1, 1.5, 9.69] \t B\n",
      "4 \t [9.87, 9.41, 7.1] \t A\n",
      "5 \t [4.35, 7.8, 8.05] \t B\n",
      "6 \t [7.65, 1.44, 9.96] \t B\n",
      "7 \t [9.95, 6.83, 7.84] \t A\n",
      "9 \t [8.99, 7.98, 7.34] \t B\n",
      "10 \t [8.62, 0.86, 9.84] \t B\n",
      "13 \t [4.92, 9.78, 8.1] \t B\n",
      "14 \t [4.33, 6.71, 7.53] \t B\n",
      "15 \t [9.25, 0.97, 9.3] \t B\n"
     ]
    }
   ],
   "source": [
    "stu_geqB_list = [] # list of students has letter point greater or equal than B\n",
    "print(\"list of students has letter point greater or equal than B \\n\")\n",
    "print(\"Index\", \"\\t\", \"points\", \"\\t\", \"letter points\")\n",
    "for i in range(num_students):\n",
    "    if stu_letter_points[i] in ['B', 'A', 'A+']:\n",
    "        stu_geqB_list.append([i, stu_points[i], stu_letter_points[i]])\n",
    "        print(i+1, \"\\t\", stu_points[i], \"\\t\", stu_letter_points[i])"
   ]
  },
  {
   "cell_type": "markdown",
   "metadata": {},
   "source": [
    "# (Dictionaries) 1."
   ]
  },
  {
   "cell_type": "markdown",
   "metadata": {},
   "source": [
    "## read student name file"
   ]
  },
  {
   "cell_type": "code",
   "execution_count": 176,
   "metadata": {},
   "outputs": [],
   "source": [
    "stu_name_list = []\n",
    "\n",
    "with open('student_names.txt') as stu_name_file:\n",
    "    lines = stu_name_file.readlines()\n",
    "\n",
    "for line in lines:\n",
    "    stu_name_list.append(line.strip())\n",
    "\n",
    "student_point_list = list(zip(stu_name_list, stu_points,\n",
    "                             stu_average_points, stu_letter_points))"
   ]
  },
  {
   "cell_type": "markdown",
   "metadata": {},
   "source": [
    "## (Dictionaries) 1.1 --> 1.3"
   ]
  },
  {
   "cell_type": "code",
   "execution_count": 177,
   "metadata": {},
   "outputs": [
    {
     "name": "stdout",
     "output_type": "stream",
     "text": [
      "List students has max average point is: \n",
      " ['Nguyen Van A4'] 8.12\n",
      "List students has min average point is: \n",
      " ['Nguyen Van A19'] 1.43\n",
      "List students has B letter point is: \n",
      " ['Nguyen Van A1', 'Nguyen Van A5', 'Nguyen Van A6', 'Nguyen Van A9', 'Nguyen Van A10', 'Nguyen Van A13', 'Nguyen Van A14', 'Nguyen Van A15']\n"
     ]
    }
   ],
   "source": [
    "max_Aver_point = max(stu_average_points)\n",
    "min_Aver_point = min(stu_average_points)\n",
    "\n",
    "stu_max_point_list = []\n",
    "stu_min_point_list = []\n",
    "stu_B_point_list = []\n",
    "\n",
    "for i in range(num_students):\n",
    "    # max_Aver_point\n",
    "    if stu_average_points[i] == max_Aver_point:\n",
    "        stu_name = stu_name_list[i]\n",
    "        stu_max_point_list.append(stu_name)\n",
    "    # min_Aver_point\n",
    "    if stu_average_points[i] == min_Aver_point:\n",
    "        stu_name = stu_name_list[i]\n",
    "        stu_min_point_list.append(stu_name)\n",
    "    if stu_letter_points[i] == 'B':\n",
    "        stu_name = stu_name_list[i]\n",
    "        stu_B_point_list.append(stu_name)\n",
    "\n",
    "print(\"List students has max average point is: \\n\", stu_max_point_list, max_Aver_point)\n",
    "print(\"List students has min average point is: \\n\", stu_min_point_list, min_Aver_point)\n",
    "print(\"List students has B letter point is: \\n\", stu_B_point_list)"
   ]
  },
  {
   "cell_type": "code",
   "execution_count": 178,
   "metadata": {},
   "outputs": [
    {
     "name": "stdout",
     "output_type": "stream",
     "text": [
      "student and average point is\n",
      "Nguyen Van A1 \t 7.33\n",
      "Nguyen Van A2 \t 5.8\n",
      "Nguyen Van A3 \t 5.89\n",
      "Nguyen Van A4 \t 8.12\n",
      "Nguyen Van A5 \t 7.26\n",
      "Nguyen Van A6 \t 7.79\n",
      "Nguyen Van A7 \t 8.06\n",
      "Nguyen Van A8 \t 6.12\n",
      "Nguyen Van A9 \t 7.8\n",
      "Nguyen Van A10 \t 7.8\n",
      "Nguyen Van A11 \t 5.58\n",
      "Nguyen Van A12 \t 4.45\n",
      "Nguyen Van A13 \t 7.8\n",
      "Nguyen Van A14 \t 6.73\n",
      "Nguyen Van A15 \t 7.62\n",
      "Nguyen Van A16 \t 2.22\n",
      "Nguyen Van A17 \t 3.62\n",
      "Nguyen Van A18 \t 6.15\n",
      "Nguyen Van A19 \t 1.43\n",
      "Nguyen Van A20 \t 4.86\n"
     ]
    }
   ],
   "source": [
    "stu_name_aver_points_dict = dict(zip(stu_name_list, stu_average_points))\n",
    "sorted_name_aver_point = sorted(stu_name_aver_points_dict, \\\n",
    "                                    key=lambda \\\n",
    "                                    stu_name : stu_name_aver_points_dict[stu_name], reverse = True) \n",
    "\n",
    "print(\"student and average point is\")\n",
    "for name, point in stu_name_aver_points_dict.items():\n",
    "    print(name, \"\\t\", point)\n"
   ]
  },
  {
   "cell_type": "code",
   "execution_count": 179,
   "metadata": {},
   "outputs": [
    {
     "name": "stdout",
     "output_type": "stream",
     "text": [
      "sorted student point:\n",
      "\n",
      "Nguyen Van A4 \t 8.12\n",
      "Nguyen Van A7 \t 8.06\n",
      "Nguyen Van A9 \t 7.8\n",
      "Nguyen Van A10 \t 7.8\n",
      "Nguyen Van A13 \t 7.8\n",
      "Nguyen Van A6 \t 7.79\n",
      "Nguyen Van A15 \t 7.62\n",
      "Nguyen Van A1 \t 7.33\n",
      "Nguyen Van A5 \t 7.26\n",
      "Nguyen Van A14 \t 6.73\n",
      "Nguyen Van A18 \t 6.15\n",
      "Nguyen Van A8 \t 6.12\n",
      "Nguyen Van A3 \t 5.89\n",
      "Nguyen Van A2 \t 5.8\n",
      "Nguyen Van A11 \t 5.58\n",
      "Nguyen Van A20 \t 4.86\n",
      "Nguyen Van A12 \t 4.45\n",
      "Nguyen Van A17 \t 3.62\n",
      "Nguyen Van A16 \t 2.22\n",
      "Nguyen Van A19 \t 1.43\n"
     ]
    }
   ],
   "source": [
    "print(\"sorted student point:\\n\")\n",
    "for i in range(num_students):\n",
    "    stu_name = sorted_name_aver_point[i]\n",
    "    print(stu_name,\"\\t\", stu_name_aver_points_dict[stu_name])"
   ]
  },
  {
   "cell_type": "markdown",
   "metadata": {},
   "source": [
    "# 2. Tic - Tac - Toe"
   ]
  },
  {
   "cell_type": "markdown",
   "metadata": {},
   "source": [
    "## tic-toc-toe"
   ]
  },
  {
   "cell_type": "code",
   "execution_count": 180,
   "metadata": {},
   "outputs": [],
   "source": [
    "def create_tic_tac_toe(ttt_size):\n",
    "    size_board = ttt_size**2 \n",
    "    # first_player_steps \n",
    "    if ttt_size % 2 == 0:\n",
    "        first_player_steps = size_board//2\n",
    "    else:\n",
    "        first_player_steps = size_board//2 + 1\n",
    "\n",
    "    ttt_input_list_0 = [0]*first_player_steps + [1]*(size_board - first_player_steps)\n",
    "    ttt_input_list_1 = [1]*first_player_steps + [0]*(size_board - first_player_steps)\n",
    "\n",
    "    random.shuffle(ttt_input_list_0)\n",
    "    random.shuffle(ttt_input_list_1)\n",
    "\n",
    "    matrix_0 = []\n",
    "    while ttt_input_list_0 != []:\n",
    "        matrix_0.append(ttt_input_list_0[:ttt_size])\n",
    "        ttt_input_list_0 = ttt_input_list_0[ttt_size:]\n",
    "\n",
    "    matrix_1 = []\n",
    "    while ttt_input_list_1 != []:\n",
    "        matrix_1.append(ttt_input_list_1[:ttt_size])\n",
    "        ttt_input_list_1 = ttt_input_list_1[ttt_size:]\n",
    "        \n",
    "    option = random.randint(0,1) \n",
    "    if option == 0:\n",
    "        return matrix_0\n",
    "    else:\n",
    "        return matrix_1"
   ]
  },
  {
   "cell_type": "code",
   "execution_count": 181,
   "metadata": {},
   "outputs": [],
   "source": [
    "from collections import Counter\n",
    "import numpy as np\n",
    "\n",
    "def tic_tac_toe(ttt_size):\n",
    "    ttt_input = np.array(create_tic_tac_toe(ttt_size))\n",
    "    print(ttt_input)\n",
    "\n",
    "    nRows = [row.tolist() for row in ttt_input]\n",
    "    nCols = [row.tolist() for row in ttt_input.transpose()]\n",
    "    nDiagonals = [\n",
    "                [ttt_input[i][i] \n",
    "                for i in range(ttt_size)] \n",
    "                , \n",
    "                [ttt_input[i][ttt_size - 1 - i] \n",
    "                for i in range(ttt_size)]\n",
    "                ]\n",
    "    \n",
    "    nAll_kinds_of_ttt = nRows + nCols + nDiagonals\n",
    "    \n",
    "    winner_conditions = [\n",
    "                        [0 for _ in range(ttt_size)]\n",
    "                        , \n",
    "                        [1 for _ in range(ttt_size)]\n",
    "                        ]\n",
    "\n",
    "    # first player\n",
    "    res = dict(sum(map(Counter, ttt_input), Counter()))\n",
    "    \n",
    "    if res[0] > res[1]:\n",
    "        first_player = 0\n",
    "        if winner_conditions[0] in nAll_kinds_of_ttt:\n",
    "            winner = 0\n",
    "            return print(\"player[0] win!\")\n",
    "    \n",
    "    if res[1] > res[0]:\n",
    "        first_player = 1\n",
    "        if winner_conditions[1] in nAll_kinds_of_ttt:\n",
    "            winner = 1\n",
    "            return print(\"player[1] win!\")\n",
    "\n",
    "    if (winner_conditions[0] not in nAll_kinds_of_ttt) \\\n",
    "        and \\\n",
    "        (winner_conditions[1] not in nAll_kinds_of_ttt):\n",
    "        return print(\"Draw!\")\n",
    "    "
   ]
  },
  {
   "cell_type": "code",
   "execution_count": 166,
   "metadata": {},
   "outputs": [
    {
     "name": "stdout",
     "output_type": "stream",
     "text": [
      "[[1 0 0 1 1]\n",
      " [1 0 1 0 0]\n",
      " [0 1 1 0 0]\n",
      " [1 0 0 1 0]\n",
      " [0 0 1 1 1]]\n",
      "Draw!\n"
     ]
    }
   ],
   "source": [
    "tic_tac_toe(5)"
   ]
  }
 ],
 "metadata": {
  "interpreter": {
   "hash": "c7bee57b26c58cc7fda6ebbba85bbc81dac28551bf90007b61a71bf47794e6d8"
  },
  "kernelspec": {
   "display_name": "Python 3.9.7 64-bit",
   "name": "python3"
  },
  "language_info": {
   "codemirror_mode": {
    "name": "ipython",
    "version": 3
   },
   "file_extension": ".py",
   "mimetype": "text/x-python",
   "name": "python",
   "nbconvert_exporter": "python",
   "pygments_lexer": "ipython3",
   "version": "3.9.7"
  },
  "orig_nbformat": 4
 },
 "nbformat": 4,
 "nbformat_minor": 2
}
