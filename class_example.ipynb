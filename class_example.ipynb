{
 "cells": [
  {
   "cell_type": "markdown",
   "metadata": {},
   "source": [
    "# Classes\n"
   ]
  },
  {
   "cell_type": "code",
   "execution_count": 1,
   "metadata": {},
   "outputs": [],
   "source": [
    "class triangle(): \n",
    "    pass"
   ]
  },
  {
   "cell_type": "markdown",
   "metadata": {},
   "source": [
    "## 1. Class Point"
   ]
  },
  {
   "cell_type": "code",
   "execution_count": 2,
   "metadata": {},
   "outputs": [
    {
     "name": "stdout",
     "output_type": "stream",
     "text": [
      "pointA:  Point(0, 0)\n",
      "pointB:  Point(3, 4)\n",
      "Point A and Point B are distinct points\n",
      "Distance from A to B according to \"L2\" normal metric is:  5.0\n",
      "Distance from A to B according to \"L1\" normal metric is:  7.0\n"
     ]
    }
   ],
   "source": [
    "from point_class import Point\n",
    "\n",
    "pointA = Point(0, 0)\n",
    "pointB = Point(3, 4)\n",
    "\n",
    "print(\"pointA: \", pointA)\n",
    "print(\"pointB: \", pointB)\n",
    "if Point.is_coincide_points(pointA, pointB) == False:\n",
    "    print(\"Point A and Point B are distinct points\")\n",
    "\n",
    "distance_AB_L2 = Point.distance(pointA, pointB)\n",
    "distance_AB_L1 = Point.distance(pointA, pointB, \"L1\")\n",
    "print('Distance from A to B according to \"L2\" normal metric is: ', distance_AB_L2)\n",
    "print('Distance from A to B according to \"L1\" normal metric is: ', distance_AB_L1)\n",
    "\n",
    "# an other way to calculate the distance between pointA and pointB\n",
    "# dist_ = pointA.distance(pointB)\n",
    "# print(dist_)\n",
    "# ----------------------------------------------------------------"
   ]
  },
  {
   "cell_type": "markdown",
   "metadata": {},
   "source": [
    "## 2. Line Class"
   ]
  },
  {
   "cell_type": "code",
   "execution_count": 3,
   "metadata": {},
   "outputs": [
    {
     "name": "stdout",
     "output_type": "stream",
     "text": [
      "\n",
      "Equation of the line is 1*x + 2*y + 3 = 0\n",
      "\n",
      "Not exist a line has equation: 0*x + 0*y + 1 = 0\n"
     ]
    }
   ],
   "source": [
    "from line_class import Line\n",
    "\n",
    "line1 = Line(1, 2, 3)\n",
    "print(line1)\n",
    "\n",
    "line2 = Line(0, 0, 1)\n",
    "print(line2)    \n",
    "\n",
    "line3 = Line(1, -2, 4)\n"
   ]
  },
  {
   "cell_type": "code",
   "execution_count": 4,
   "metadata": {},
   "outputs": [
    {
     "name": "stdout",
     "output_type": "stream",
     "text": [
      "Point(-3.5, 0.25)\n"
     ]
    }
   ],
   "source": [
    "import numpy as np\n",
    "\n",
    "intersection_line1_and_line3 = Line.get_two_line_intersection(line1, line3)\n",
    "print(intersection_line1_and_line3)"
   ]
  },
  {
   "cell_type": "code",
   "execution_count": 5,
   "metadata": {},
   "outputs": [
    {
     "name": "stdout",
     "output_type": "stream",
     "text": [
      "distance between aPoint and aLine is:  2.23606797749979\n"
     ]
    }
   ],
   "source": [
    "aPoint = Point(0, 1)\n",
    "aLine = Line(1, 2, 3)\n",
    "dist_ = Line.get_distance_from_point_to_line(aPoint, aLine)\n",
    "print(\"distance between aPoint and aLine is: \", dist_)"
   ]
  },
  {
   "cell_type": "code",
   "execution_count": 6,
   "metadata": {},
   "outputs": [
    {
     "name": "stdout",
     "output_type": "stream",
     "text": [
      "\n",
      "Equation of the line is -1*x + -1*y + 4 = 0\n"
     ]
    }
   ],
   "source": [
    "point1, point2 = Point(2, 2), Point(1, 3)\n",
    "line = Line.get_line(point1, point2)\n",
    "print(line)\n",
    "            "
   ]
  },
  {
   "cell_type": "markdown",
   "metadata": {},
   "source": [
    "## 3. Circle class example"
   ]
  },
  {
   "cell_type": "code",
   "execution_count": 7,
   "metadata": {},
   "outputs": [
    {
     "name": "stdout",
     "output_type": "stream",
     "text": [
      "Circle has center Point(3, 1) and radius equals 1\n",
      "Circle has center Point(2, 0) and radius equals 2\n",
      "Two circles are coincidence?:  False\n",
      "Two circles intersect at  2  point\n",
      "\n",
      "Equation of the line is 1*x + -1*y + 0 = 0\n",
      "0\n"
     ]
    }
   ],
   "source": [
    "from circle_class import Circle\n",
    "import matplotlib as plt\n",
    "\n",
    "circle1 = Circle(Point(3, 1), 1)    \n",
    "circle2 = Circle(Point(2, 0), 2)\n",
    "circle3 = Circle(Point(1, -1), 1)\n",
    "circle4 = Circle(Point(4, 0), 1)\n",
    "print(circle1)\n",
    "print(circle2)\n",
    "\n",
    "x = Circle.is_coincidence_circles(circle1, circle2)\n",
    "print(\"Two circles are coincidence?: \",x)\n",
    "\n",
    "y = Circle.circle_intersect_circle(circle1, circle2)\n",
    "print(\"Two circles intersect at \", y, \" point\")\n",
    "\n",
    "line1 = Line(1, -1, 0)\n",
    "print(line1)\n",
    "print(circle1.line_intersect_circle(line1))\n",
    "# print(Circle.line_intersect_circle(line1, circle1))"
   ]
  },
  {
   "cell_type": "code",
   "execution_count": 8,
   "metadata": {},
   "outputs": [
    {
     "data": {
      "text/plain": [
       "<matplotlib.patches.Circle at 0x2588ab79cd0>"
      ]
     },
     "execution_count": 8,
     "metadata": {},
     "output_type": "execute_result"
    },
    {
     "data": {
      "image/png": "[encoded data removed]",
      "text/plain": [
       "<Figure size 432x288 with 1 Axes>"
      ]
     },
     "metadata": {
      "needs_background": "light"
     },
     "output_type": "display_data"
    }
   ],
   "source": [
    "import matplotlib.pyplot as plt\n",
    "\n",
    "fig, ax = plt.subplots()\n",
    "\n",
    "ax.set(xlim=(-10, 10), ylim = (-10, 10))\n",
    "\n",
    "a_circle1 = plt.Circle((3, 1), 1, color = \"blue\")\n",
    "a_circle2 = plt.Circle((2, 0), 2, color = \"red\")\n",
    "\n",
    "ax.add_artist(a_circle1)\n",
    "ax.add_artist(a_circle2)"
   ]
  },
  {
   "cell_type": "markdown",
   "metadata": {},
   "source": [
    "## Poly"
   ]
  },
  {
   "cell_type": "code",
   "execution_count": 14,
   "metadata": {},
   "outputs": [
    {
     "name": "stdout",
     "output_type": "stream",
     "text": [
      "p =  1x^4 - 2x^3 - 4x - 1\n",
      "q =  1x^3 + 2x^2 + 3x - 4\n",
      "p+q =  1x^4 - 1x^3 + 2x^2 - 1x - 5\n",
      "p-q =  1x^4 - 3x^3 - 2x^2 - 7x + 3\n",
      "p*q =  1x^7 - 1x^5 - 14x^4 - 1x^3 - 14x^2 + 13x + 4\n",
      "2*p =  2x^4 - 4x^3 - 8x - 2\n",
      "p-10 =  1x^4 - 2x^3 - 4x + 9\n",
      "p(1) =  4\n",
      "degree of p is  4\n"
     ]
    },
    {
     "data": {
      "image/png": "[encoded data removed]",
      "text/plain": [
       "<Figure size 432x288 with 1 Axes>"
      ]
     },
     "metadata": {
      "needs_background": "light"
     },
     "output_type": "display_data"
    }
   ],
   "source": [
    "import numpy as np\n",
    "from poly_class import Polynomial\n",
    "p = Polynomial(1, -2, 0, -4, -1)\n",
    "q = Polynomial(1, 2, 3, -4)\n",
    "print(\"p = \", p)\n",
    "print(\"q = \", q)\n",
    "print(\"p+q = \", p.add_poly(q))\n",
    "print(\"p-q = \", p.sub_poly(q))\n",
    "print(\"p*q = \", p.mul_poly(q))\n",
    "print(\"2*p = \", p.mul_scalar(2))\n",
    "print(\"p-10 = \", p.add_scalar(10))\n",
    "\n",
    "print(\"p(1) = \", p(1))\n",
    "print(\"degree of p is \", p.deg)\n",
    "\n",
    "x_ = np.linspace(-10, 10, 1000)\n",
    "y_ = [p(x) for x in x_]\n",
    "\n",
    "plt.plot(x_, y_, color = \"blue\")\n",
    "plt.title(p)\n",
    "plt.show()\n"
   ]
  },
  {
   "cell_type": "markdown",
   "metadata": {},
   "source": []
  },
  {
   "cell_type": "code",
   "execution_count": null,
   "metadata": {},
   "outputs": [],
   "source": [
    "func_str = \"x**2 + 2*x + 1\"\n",
    "\n",
    "func_ = eval(func_str)\n",
    "print(func_)\n"
   ]
  }
 ],
 "metadata": {
  "interpreter": {
   "hash": "c7bee57b26c58cc7fda6ebbba85bbc81dac28551bf90007b61a71bf47794e6d8"
  },
  "kernelspec": {
   "display_name": "Python 3.9.7 64-bit",
   "name": "python3"
  },
  "language_info": {
   "codemirror_mode": {
    "name": "ipython",
    "version": 3
   },
   "file_extension": ".py",
   "mimetype": "text/x-python",
   "name": "python",
   "nbconvert_exporter": "python",
   "pygments_lexer": "ipython3",
   "version": "3.9.7"
  },
  "orig_nbformat": 4
 },
 "nbformat": 4,
 "nbformat_minor": 2
}
