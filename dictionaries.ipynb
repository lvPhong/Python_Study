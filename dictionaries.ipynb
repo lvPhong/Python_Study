{
 "cells": [
  {
   "cell_type": "code",
   "execution_count": 3,
   "metadata": {},
   "outputs": [],
   "source": [
    "import numpy as np\n",
    "import random\n",
    "import itertools"
   ]
  },
  {
   "cell_type": "markdown",
   "metadata": {},
   "source": [
    "# 2. Caesar code"
   ]
  },
  {
   "cell_type": "markdown",
   "metadata": {},
   "source": [
    "### 65 is ascii code of ‘A’\n",
    "### 90 is ascii code of 'Z'\n",
    "### chr(number) is return character of ASCII value is number.\n",
    "### ord('A') : ordered value of ASCII character 'A'.\n",
    "### each 'A' to 'Z' is a partition of the set : $\\mathbb{Z}/26$"
   ]
  },
  {
   "cell_type": "code",
   "execution_count": 4,
   "metadata": {},
   "outputs": [
    {
     "name": "stdout",
     "output_type": "stream",
     "text": [
      "upper_case_dict is  {0: 'A', 1: 'B', 2: 'C', 3: 'D', 4: 'E', 5: 'F', 6: 'G', 7: 'H', 8: 'I', 9: 'J', 10: 'K', 11: 'L', 12: 'M', 13: 'N', 14: 'O', 15: 'P', 16: 'Q', 17: 'R', 18: 'S', 19: 'T', 20: 'U', 21: 'V', 22: 'W', 23: 'X', 24: 'Y', 25: 'Z'}\n"
     ]
    }
   ],
   "source": [
    "# create partitions of upper case letters set\n",
    "upper_case_range = range(ord('A'), ord('Z')+1)\n",
    "upper_cases = [chr(upper_case) for upper_case in upper_case_range] # list of upper case lettes:\n",
    "\n",
    "upper_case_mod = range(ord('Z') - ord('A')+1)\n",
    "upper_case_dict = dict(zip(upper_case_mod, upper_cases))\n",
    "\n",
    "print(\"upper_case_dict is \", upper_case_dict)"
   ]
  },
  {
   "cell_type": "code",
   "execution_count": 5,
   "metadata": {},
   "outputs": [],
   "source": [
    "upper_case_size = ord('Z') - ord('A')+1\n",
    "def caesar_rot_upper_cases(rotates):\n",
    "    caesar_rot_upper_cases = []\n",
    "    real_rotates_ = rotates % upper_case_size\n",
    "\n",
    "    for mod_letter in upper_case_mod: # mod_letter : (0-->25)\n",
    "        new_mod_letter = (mod_letter + real_rotates_) % upper_case_size\n",
    "        new_upper_case_letter = upper_case_dict[new_mod_letter]\n",
    "        caesar_rot_upper_cases.append(new_upper_case_letter)\n",
    "\n",
    "    caesar_rot_upper_cases_dict = dict(zip(caesar_rot_upper_cases, upper_cases))\n",
    "    \n",
    "    return caesar_rot_upper_cases_dict\n",
    "        "
   ]
  },
  {
   "cell_type": "code",
   "execution_count": 6,
   "metadata": {},
   "outputs": [],
   "source": [
    "def caesar_rot(mess, rotates):\n",
    "    upper_mess = mess.upper()\n",
    "    caesar_upper_cases = caesar_rot_upper_cases(rotates)\n",
    "    caesar_rot_mess = \"\"\n",
    "    \n",
    "    for letter in upper_mess:\n",
    "        if letter.isupper() == True:\n",
    "            caesar_rot_letter = caesar_upper_cases[letter]\n",
    "            caesar_rot_mess += caesar_rot_letter\n",
    "        else:\n",
    "            caesar_rot_mess += letter\n",
    "    return caesar_rot_mess"
   ]
  },
  {
   "cell_type": "code",
   "execution_count": 7,
   "metadata": {},
   "outputs": [
    {
     "data": {
      "text/plain": [
       "'EX OTG IAHGZ ANL 2021 IRMAHG'"
      ]
     },
     "execution_count": 7,
     "metadata": {},
     "output_type": "execute_result"
    }
   ],
   "source": [
    "# caesar_rot_example\n",
    "caesar_rot(\"Le van phong hus 2021 PYTHON\", 7)"
   ]
  },
  {
   "cell_type": "markdown",
   "metadata": {},
   "source": [
    "# 3.1 Shortest path\n",
    "### coords rule: \n",
    "### $(x,~y) \\rightarrow (x+\\Delta x,~y+\\Delta y)$\n",
    "### $\\Delta x + \\Delta y = 1$\n",
    "### $(x,~y) \\rightarrow (x + a,~ y + 1-a)$\n",
    "### $a = 0 \\text{ or }a = 1$"
   ]
  },
  {
   "cell_type": "markdown",
   "metadata": {},
   "source": [
    "### 3.1.1 a shortest path"
   ]
  },
  {
   "cell_type": "code",
   "execution_count": 8,
   "metadata": {},
   "outputs": [],
   "source": [
    "# shortest path from (0, 0) to (10, 10)\n",
    "# a = [ 10 số 0 và 10 số 1 được xáo trộn]\n",
    "# điểm thứ 1 : (0, 0)\n",
    "# điẻm thứ 2: (a[0], 1-a[0])\n",
    "# điểm thứ 3 = (a[0] + a[1], 2-a[0]-a[1])\n",
    "# ...\n",
    "\n",
    "def shortest_path(size_board = 10):\n",
    "\t\n",
    "\tadded_coords = [1]*size_board + [0]*size_board\n",
    "\trandom.shuffle(added_coords)\n",
    "\n",
    "\tpath = [(0,0)]\n",
    "\tx_coord= 0\n",
    "\ty_coord = 0\n",
    "\n",
    "\t# added coordinate to next steps\n",
    "\tfor i in range(len(added_coords)):\n",
    "\t\tx_coord += added_coords[i]\n",
    "\t\ty_coord += 1-added_coords[i]\n",
    "\t\tpath.append((x_coord, y_coord))\n",
    "\n",
    "\treturn path\n"
   ]
  },
  {
   "cell_type": "code",
   "execution_count": 9,
   "metadata": {},
   "outputs": [
    {
     "name": "stdout",
     "output_type": "stream",
     "text": [
      "[(0, 0), (1, 0), (1, 1), (2, 1), (2, 2), (2, 3), (2, 4), (3, 4), (4, 4), (5, 4), (6, 4), (6, 5), (7, 5), (8, 5), (8, 6), (8, 7), (9, 7), (10, 7), (10, 8), (10, 9), (10, 10)]\n"
     ]
    }
   ],
   "source": [
    "a_shortest_path = shortest_path(10)\n",
    "print(a_shortest_path)"
   ]
  },
  {
   "cell_type": "code",
   "execution_count": 10,
   "metadata": {},
   "outputs": [],
   "source": [
    "### 3.1.2 customize with and height\n",
    "def shortest_path(width, height):\n",
    "\t\n",
    "\tadded_coords = [1]*width + [0]*height\n",
    "\trandom.shuffle(added_coords)\n",
    "\n",
    "\tpath = [(0,0)]\n",
    "\tx_coord= 0\n",
    "\ty_coord = 0\n",
    "\n",
    "\t# added coordinate to next steps\n",
    "\tfor i in range(len(added_coords)):\n",
    "\t\tx_coord += added_coords[i]\n",
    "\t\ty_coord += 1-added_coords[i]\n",
    "\t\tpath.append((x_coord, y_coord))\n",
    "\n",
    "\treturn path"
   ]
  },
  {
   "cell_type": "code",
   "execution_count": 11,
   "metadata": {},
   "outputs": [
    {
     "name": "stdout",
     "output_type": "stream",
     "text": [
      "[(0, 0), (1, 0), (2, 0), (2, 1), (2, 2), (2, 3), (2, 4), (2, 5), (3, 5), (4, 5)]\n"
     ]
    }
   ],
   "source": [
    "a_shortest_path = shortest_path(4,5)\n",
    "print(a_shortest_path)"
   ]
  },
  {
   "cell_type": "markdown",
   "metadata": {},
   "source": [
    "# 3.2\n",
    "### Number of all shortest paths from (0, 0) to (n, n) is:\n",
    "\n",
    "$C_{2n}^{n}$"
   ]
  },
  {
   "cell_type": "code",
   "execution_count": 12,
   "metadata": {},
   "outputs": [],
   "source": [
    "def all_shortest_paths(board_size):\n",
    "    board_paths = [[0]*(board_size + 1)]*(board_size + 1) # a board has board_size columns and board_size rows\n",
    "\n",
    "    for i in range(board_size + 1):\n",
    "        for j in range(board_size + 1):\n",
    "            if i == 0 or j == 0:\n",
    "                board_paths[i][j] = 1\n",
    "            else:\n",
    "                board_paths[i][j] = board_paths[i-1][j] + board_paths[i][j-1]\n",
    "    \n",
    "    return board_paths[board_size][board_size]\n"
   ]
  },
  {
   "cell_type": "code",
   "execution_count": 13,
   "metadata": {},
   "outputs": [
    {
     "data": {
      "text/plain": [
       "184756"
      ]
     },
     "execution_count": 13,
     "metadata": {},
     "output_type": "execute_result"
    }
   ],
   "source": [
    "all_shortest_paths(10)"
   ]
  },
  {
   "cell_type": "markdown",
   "metadata": {},
   "source": [
    "# 4."
   ]
  },
  {
   "cell_type": "code",
   "execution_count": 14,
   "metadata": {},
   "outputs": [
    {
     "name": "stdout",
     "output_type": "stream",
     "text": [
      "24\n"
     ]
    }
   ],
   "source": [
    "def getArea(**kwargs):\n",
    "    pass\n",
    "def getVolume(**kwargs):\n",
    "    volume = kwargs[\"length\"] * kwargs[\"width\"] * kwargs[\"height\"]\n",
    "    print(volume)\n",
    "def getSomething(**kwargs):\n",
    "    return 0\n",
    "def getSomethingElse(**kwargs):\n",
    "    return 0\n",
    "dictSize = {\"length\":2, \"width\":3, \"height\":4}\n",
    "\n",
    "getArea(**dictSize)\n",
    "getVolume(**dictSize)\n",
    "getSomething(**dictSize)\n",
    "getSomethingElse(**dictSize)"
   ]
  }
 ],
 "metadata": {
  "interpreter": {
   "hash": "c7bee57b26c58cc7fda6ebbba85bbc81dac28551bf90007b61a71bf47794e6d8"
  },
  "kernelspec": {
   "display_name": "Python 3.9.7 64-bit",
   "name": "python3"
  },
  "language_info": {
   "codemirror_mode": {
    "name": "ipython",
    "version": 3
   },
   "file_extension": ".py",
   "mimetype": "text/x-python",
   "name": "python",
   "nbconvert_exporter": "python",
   "pygments_lexer": "ipython3",
   "version": "3.9.7"
  },
  "orig_nbformat": 4
 },
 "nbformat": 4,
 "nbformat_minor": 2
}
