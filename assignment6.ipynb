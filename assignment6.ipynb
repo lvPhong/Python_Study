{
 "cells": [
  {
   "cell_type": "markdown",
   "metadata": {},
   "source": [
    "# 5 . Largest prime factor\n",
    "\n",
    "## The prime factors of 13195 are 5, 7, 13 and 29.\n",
    "\n",
    "## *What is the largest prime factor of the number 600851475143 ?*"
   ]
  },
  {
   "cell_type": "markdown",
   "metadata": {},
   "source": [
    "## 5.1."
   ]
  },
  {
   "cell_type": "code",
   "execution_count": 1,
   "metadata": {},
   "outputs": [
    {
     "name": "stdout",
     "output_type": "stream",
     "text": [
      "6857\n"
     ]
    }
   ],
   "source": [
    "import numpy as np \n",
    "import math\n",
    "\n",
    "def is_prime(n):\n",
    "    if n < 2:\n",
    "        return False\n",
    "    elif n == 2 or n == 3:\n",
    "        return True\n",
    "    # n >=4, n = 6k+1 or n = 6k+5\n",
    "    elif (n-1) % 6 == 0 or (n-5) % 6 == 0:\n",
    "        for i in range(5, math.floor(np.sqrt(n)), 2):\n",
    "            if n % i == 0:\n",
    "                return False\n",
    "        return True\n",
    "    # n >=4, n mod 2 =0 or n mod 3=0\n",
    "    else: \n",
    "        return False\n",
    "\n",
    "check_num = 600851475143\n",
    "list_a = [value for value in range(2, math.floor(np.sqrt(check_num)))]\n",
    "\n",
    "for value in reversed(list_a):\n",
    "    if is_prime(value) == True and check_num % value == 0:\n",
    "        print(value)\n",
    "        break"
   ]
  },
  {
   "cell_type": "markdown",
   "metadata": {},
   "source": [
    "## 5.2"
   ]
  },
  {
   "cell_type": "code",
   "execution_count": 2,
   "metadata": {},
   "outputs": [],
   "source": [
    "def prime_factor_list_of_num(number):\n",
    "    prime_factor_list = []\n",
    "    \n",
    "    if number < 2 or type(number) != int:\n",
    "        print(number, \" is not a natural number!\")\n",
    "        return prime_factor_list\n",
    "    else:\n",
    "        while number % 2 == 0:\n",
    "            prime_factor_list.append(2)\n",
    "            number >>= 1\n",
    "        for i in range(3, math.floor(math.sqrt(number)), 2):\n",
    "            while number % i == 0:\n",
    "                prime_factor_list.append(i)\n",
    "                number //= i\n",
    "        if number > 1:\n",
    "            prime_factor_list.append(number)\n",
    "    return (prime_factor_list)"
   ]
  },
  {
   "cell_type": "code",
   "execution_count": 3,
   "metadata": {},
   "outputs": [],
   "source": [
    "def largest_prime_factor(number):\n",
    "    prime_list = prime_factor_list_of_num(number)\n",
    "    largest_prime = prime_list[-1]\n",
    "\n",
    "    return (largest_prime)"
   ]
  },
  {
   "cell_type": "code",
   "execution_count": 4,
   "metadata": {},
   "outputs": [
    {
     "data": {
      "text/plain": [
       "[71, 839, 1471, 6857]"
      ]
     },
     "execution_count": 4,
     "metadata": {},
     "output_type": "execute_result"
    }
   ],
   "source": [
    "prime_factor_list_of_num(600851475143)"
   ]
  },
  {
   "cell_type": "code",
   "execution_count": 5,
   "metadata": {},
   "outputs": [
    {
     "data": {
      "text/plain": [
       "6857"
      ]
     },
     "execution_count": 5,
     "metadata": {},
     "output_type": "execute_result"
    }
   ],
   "source": [
    "largest_prime_factor(600851475143)"
   ]
  }
 ],
 "metadata": {
  "interpreter": {
   "hash": "c7bee57b26c58cc7fda6ebbba85bbc81dac28551bf90007b61a71bf47794e6d8"
  },
  "kernelspec": {
   "display_name": "Python 3.9.7 64-bit",
   "name": "python3"
  },
  "language_info": {
   "codemirror_mode": {
    "name": "ipython",
    "version": 3
   },
   "file_extension": ".py",
   "mimetype": "text/x-python",
   "name": "python",
   "nbconvert_exporter": "python",
   "pygments_lexer": "ipython3",
   "version": "3.9.7"
  },
  "orig_nbformat": 4
 },
 "nbformat": 4,
 "nbformat_minor": 2
}
