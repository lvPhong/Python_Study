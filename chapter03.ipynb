{
 "cells": [
  {
   "cell_type": "markdown",
   "source": [
    "# Woking with Lists"
   ],
   "metadata": {}
  },
  {
   "cell_type": "markdown",
   "source": [
    "## 1. Vẽ hình"
   ],
   "metadata": {}
  },
  {
   "cell_type": "code",
   "execution_count": 80,
   "source": [
    "check_columns = check_rows = 6"
   ],
   "outputs": [],
   "metadata": {}
  },
  {
   "cell_type": "code",
   "execution_count": 81,
   "source": [
    "import numpy as np\r\n",
    "\r\n",
    "# print not newline\r\n",
    "# print(\"str_1\",end=\"str_2\")"
   ],
   "outputs": [],
   "metadata": {}
  },
  {
   "cell_type": "markdown",
   "source": [
    "## 1.1. Half Pyramid"
   ],
   "metadata": {}
  },
  {
   "cell_type": "code",
   "execution_count": 99,
   "source": [
    "# i = 0, j: 0-->0\r\n",
    "# i = 1, j: 0-->1\r\n",
    "# i = 2, j: 0-->2\r\n",
    "# i = k, j: 0-->i\r\n",
    "\r\n",
    "def half_pyramid(n):\r\n",
    "\r\n",
    "    for i in range(0,n):\r\n",
    "        for j in range(0,i+1): # if i <= j , print(\"*\") else print(\" \")\r\n",
    "                print(\"* \", end=\" \") # print not newline\r\n",
    "        print(\"\\n\")\r\n",
    "\r\n",
    "half_pyramid(check_rows)\r\n",
    "print('='*50,)\r\n",
    "half_pyramid(5)"
   ],
   "outputs": [
    {
     "output_type": "stream",
     "name": "stdout",
     "text": [
      "*  \n",
      "\n",
      "*  *  \n",
      "\n",
      "*  *  *  \n",
      "\n",
      "*  *  *  *  \n",
      "\n",
      "*  *  *  *  *  \n",
      "\n",
      "*  *  *  *  *  *  \n",
      "\n",
      "==================================================\n",
      "*  \n",
      "\n",
      "*  *  \n",
      "\n",
      "*  *  *  \n",
      "\n",
      "*  *  *  *  \n",
      "\n",
      "*  *  *  *  *  \n",
      "\n"
     ]
    }
   ],
   "metadata": {}
  },
  {
   "cell_type": "markdown",
   "source": [
    "## 1.2 Inverted Half Pyramid"
   ],
   "metadata": {}
  },
  {
   "cell_type": "code",
   "execution_count": 83,
   "source": [
    "# i = 0, j: 0-->n-1\r\n",
    "# i = 1, j: 0-->n-2\r\n",
    "# i = 2, j: 0-->n-3\r\n",
    "# i = k, j: 0-->n-1-k\r\n",
    "\r\n",
    "def inverted_half_pyramid(n):\r\n",
    "    for i in range(0,n):\r\n",
    "        for j in range(0,n-i):\r\n",
    "            print(\"* \", end=\"\")\r\n",
    "        print(\"\\n\")\r\n",
    "\r\n",
    "inverted_half_pyramid(check_rows)\r\n",
    "print('='*50)\r\n",
    "inverted_half_pyramid(5)\r\n",
    "    "
   ],
   "outputs": [
    {
     "output_type": "stream",
     "name": "stdout",
     "text": [
      "* * * * * * \n",
      "\n",
      "* * * * * \n",
      "\n",
      "* * * * \n",
      "\n",
      "* * * \n",
      "\n",
      "* * \n",
      "\n",
      "* \n",
      "\n",
      "==================================================\n",
      "* * * * * \n",
      "\n",
      "* * * * \n",
      "\n",
      "* * * \n",
      "\n",
      "* * \n",
      "\n",
      "* \n",
      "\n"
     ]
    }
   ],
   "metadata": {}
  },
  {
   "cell_type": "markdown",
   "source": [
    "## 1.3. Hollow Inverted Half Pyramid"
   ],
   "metadata": {}
  },
  {
   "cell_type": "code",
   "execution_count": 100,
   "source": [
    "# i = 0, j: 0-->n-1\r\n",
    "# i = 1, j: 0-->n-2\r\n",
    "# i = 2, j: 0-->n-3\r\n",
    "# i = k, j: 0-->n-1-k\r\n",
    "\r\n",
    "def hollow_inverted_half_pyramid(n):\r\n",
    "    for i in range(0,n):\r\n",
    "        for j in range(0,n-i):\r\n",
    "            if i == 0: # print first row\r\n",
    "                print(\"* \", end=\"\")\r\n",
    "            #print others\r\n",
    "            elif j==0 or j==n-i-1:\r\n",
    "                print(\"* \", end=\"\")\r\n",
    "            else:\r\n",
    "                print(\"  \",end=\"\")\r\n",
    "        print(\"\\n\")\r\n",
    "\r\n",
    "hollow_inverted_half_pyramid(check_rows)\r\n",
    "print('='*50)\r\n",
    "hollow_inverted_half_pyramid(7)"
   ],
   "outputs": [
    {
     "output_type": "stream",
     "name": "stdout",
     "text": [
      "* * * * * * \n",
      "\n",
      "*       * \n",
      "\n",
      "*     * \n",
      "\n",
      "*   * \n",
      "\n",
      "* * \n",
      "\n",
      "* \n",
      "\n",
      "==================================================\n",
      "* * * * * * * \n",
      "\n",
      "*         * \n",
      "\n",
      "*       * \n",
      "\n",
      "*     * \n",
      "\n",
      "*   * \n",
      "\n",
      "* * \n",
      "\n",
      "* \n",
      "\n"
     ]
    }
   ],
   "metadata": {}
  },
  {
   "cell_type": "markdown",
   "source": [
    "## 1.4. Full Pyramid"
   ],
   "metadata": {}
  },
  {
   "cell_type": "code",
   "execution_count": 101,
   "source": [
    "# n hàng, 2n-1 cột\r\n",
    "# i = 0, j: 0-->n-1, nếu i<n-1 print(\" \") else print(*)\r\n",
    "# i = 1, j: 0-->n-2-i, nếu i<n-1+1 print(\" \") else print(*)\r\n",
    "# i = 2, j: 0-->n-3\r\n",
    "# i = k, j: 0-->n-1-k\r\n",
    "\r\n",
    "def full_pyramid(n):\r\n",
    "    for i in range(0,n):\r\n",
    "        for j in range(0, n+i): # j : 0--> n-1+i\r\n",
    "            if j < n-1-i:\r\n",
    "                print(\"  \", end=\"\")\r\n",
    "            else:\r\n",
    "                if n %2== 0:\r\n",
    "                    if (i+j)%2==0:\r\n",
    "                        print(\"  \", end=\"\")\r\n",
    "                    else:\r\n",
    "                        print(\"* \", end=\"\")\r\n",
    "                else:\r\n",
    "                    if (i+j)%2==0:\r\n",
    "                        print(\"* \", end=\"\")\r\n",
    "                    else:\r\n",
    "                        print(\"  \", end=\"\")\r\n",
    "        print(\"\\n\")\r\n",
    "\r\n",
    "full_pyramid(check_rows)\r\n",
    "print('='*50)\r\n",
    "full_pyramid(5)\r\n",
    "\r\n"
   ],
   "outputs": [
    {
     "output_type": "stream",
     "name": "stdout",
     "text": [
      "          * \n",
      "\n",
      "        *   * \n",
      "\n",
      "      *   *   * \n",
      "\n",
      "    *   *   *   * \n",
      "\n",
      "  *   *   *   *   * \n",
      "\n",
      "*   *   *   *   *   * \n",
      "\n",
      "==================================================\n",
      "        * \n",
      "\n",
      "      *   * \n",
      "\n",
      "    *   *   * \n",
      "\n",
      "  *   *   *   * \n",
      "\n",
      "*   *   *   *   * \n",
      "\n"
     ]
    }
   ],
   "metadata": {}
  },
  {
   "cell_type": "markdown",
   "source": [
    "## 1.4.2"
   ],
   "metadata": {}
  },
  {
   "cell_type": "code",
   "execution_count": 86,
   "source": [
    "\r\n",
    "def full_pyramid_2(n):\r\n",
    "    for i in range(0,n):\r\n",
    "        for j in range(0,n):\r\n",
    "            if j < n-1-i:\r\n",
    "                print(\" \", end=\"\")\r\n",
    "            else:\r\n",
    "                print(\"* \", end=\"\")\r\n",
    "        print(\"\\n\")\r\n",
    "full_pyramid_2(6)\r\n",
    "print('='*50)\r\n",
    "full_pyramid_2(5)\r\n"
   ],
   "outputs": [
    {
     "output_type": "stream",
     "name": "stdout",
     "text": [
      "     * \n",
      "\n",
      "    * * \n",
      "\n",
      "   * * * \n",
      "\n",
      "  * * * * \n",
      "\n",
      " * * * * * \n",
      "\n",
      "* * * * * * \n",
      "\n",
      "==================================================\n",
      "    * \n",
      "\n",
      "   * * \n",
      "\n",
      "  * * * \n",
      "\n",
      " * * * * \n",
      "\n",
      "* * * * * \n",
      "\n"
     ]
    }
   ],
   "metadata": {}
  },
  {
   "cell_type": "markdown",
   "source": [
    "## 1.5. Inverted Full Pyramid"
   ],
   "metadata": {}
  },
  {
   "cell_type": "code",
   "execution_count": 102,
   "source": [
    "def inverted_full_pyramid(n):\r\n",
    "    x = range(0,n)\r\n",
    "    for i in x:\r\n",
    "        for j in range(0, 2*n-1-i): \r\n",
    "            if j <i:\r\n",
    "                print(\"  \", end=\"\")\r\n",
    "            else:\r\n",
    "                if (i+j) % 2==0:\r\n",
    "                    print(\"* \", end=\"\")\r\n",
    "                else:\r\n",
    "                    print(\"  \", end=\"\")\r\n",
    "        print(\"\\n\")\r\n",
    "\r\n",
    "inverted_full_pyramid(check_rows)\r\n",
    "print('='*50)\r\n",
    "inverted_full_pyramid(5)"
   ],
   "outputs": [
    {
     "output_type": "stream",
     "name": "stdout",
     "text": [
      "*   *   *   *   *   * \n",
      "\n",
      "  *   *   *   *   * \n",
      "\n",
      "    *   *   *   * \n",
      "\n",
      "      *   *   * \n",
      "\n",
      "        *   * \n",
      "\n",
      "          * \n",
      "\n",
      "==================================================\n",
      "*   *   *   *   * \n",
      "\n",
      "  *   *   *   * \n",
      "\n",
      "    *   *   * \n",
      "\n",
      "      *   * \n",
      "\n",
      "        * \n",
      "\n"
     ]
    }
   ],
   "metadata": {}
  },
  {
   "cell_type": "code",
   "execution_count": 103,
   "source": [
    "# cus_rows = [0,1,3]\r\n",
    "def inverted_full_pyramid2(n):\r\n",
    "    x = range(0,n)\r\n",
    "    cus_rows = [0,1,3]\r\n",
    "    for i in x:\r\n",
    "        if i in cus_rows:\r\n",
    "            print(\"\\n\")\r\n",
    "        else:\r\n",
    "            for j in range(0, 2*n-1-i): \r\n",
    "                if j <i:\r\n",
    "                    print(\"  \", end=\"\")\r\n",
    "                else:\r\n",
    "                    if (i+j) % 2==0:\r\n",
    "                        print(\"* \", end=\"\")\r\n",
    "                    else:\r\n",
    "                        print(\"  \", end=\"\")\r\n",
    "            print(\"\\n\")\r\n",
    "\r\n",
    "inverted_full_pyramid(check_rows)\r\n",
    "print('='*50)\r\n",
    "inverted_full_pyramid(5)"
   ],
   "outputs": [
    {
     "output_type": "stream",
     "name": "stdout",
     "text": [
      "*   *   *   *   *   * \n",
      "\n",
      "  *   *   *   *   * \n",
      "\n",
      "    *   *   *   * \n",
      "\n",
      "      *   *   * \n",
      "\n",
      "        *   * \n",
      "\n",
      "          * \n",
      "\n",
      "==================================================\n",
      "*   *   *   *   * \n",
      "\n",
      "  *   *   *   * \n",
      "\n",
      "    *   *   * \n",
      "\n",
      "      *   * \n",
      "\n",
      "        * \n",
      "\n"
     ]
    }
   ],
   "metadata": {}
  },
  {
   "cell_type": "markdown",
   "source": [
    "## 1.6. Hollow Full Pyramid"
   ],
   "metadata": {}
  },
  {
   "cell_type": "code",
   "execution_count": 130,
   "source": [
    "\r\n",
    "\r\n",
    "def hollow_full_pyramid(n):\r\n",
    "    for i in range(0,n):\r\n",
    "        for j in range(0,n+i):\r\n",
    "            #print others\r\n",
    "            if j == n-1-i or j == n-1+i:\r\n",
    "                print(\"* \", end=\"\")\r\n",
    "            elif i==n-1:\r\n",
    "                # \r\n",
    "                if n %2== 0:\r\n",
    "                    if (i+j)%2==0:\r\n",
    "                        print(\"  \", end=\"\")\r\n",
    "                    else:\r\n",
    "                        print(\"* \", end=\"\")\r\n",
    "                else:\r\n",
    "                    if (i+j)%2==0:\r\n",
    "                        print(\"* \", end=\"\")\r\n",
    "                    else:\r\n",
    "                        print(\"  \", end=\"\")\r\n",
    "            else:\r\n",
    "                print(\"  \", end=\"\")\r\n",
    "        print(\"\\n\")\r\n",
    "        \r\n",
    "\r\n",
    "a = hollow_full_pyramid(check_rows)\r\n",
    "print(a)\r\n",
    "print('='*50)\r\n",
    "hollow_full_pyramid(5)"
   ],
   "outputs": [
    {
     "output_type": "stream",
     "name": "stdout",
     "text": [
      "          * \n",
      "\n",
      "        *   * \n",
      "\n",
      "      *       * \n",
      "\n",
      "    *           * \n",
      "\n",
      "  *               * \n",
      "\n",
      "*   *   *   *   *   * \n",
      "\n",
      "None\n",
      "==================================================\n",
      "        * \n",
      "\n",
      "      *   * \n",
      "\n",
      "    *       * \n",
      "\n",
      "  *           * \n",
      "\n",
      "*   *   *   *   * \n",
      "\n"
     ]
    }
   ],
   "metadata": {}
  },
  {
   "cell_type": "markdown",
   "source": [
    "# 2. LISTS\r\n",
    "\r\n",
    "## A = [70, 43, 7, 46, 34, 77, 80, 35, 49, 3, 1, 5, 53, 3, 53]"
   ],
   "metadata": {}
  },
  {
   "cell_type": "code",
   "execution_count": 89,
   "source": [
    "A = [70, 43, 7, 46, 34, 77, 80, 35, 49, 3, 1, 5, 53, 3, 53]\r\n"
   ],
   "outputs": [],
   "metadata": {}
  },
  {
   "cell_type": "markdown",
   "source": [
    "## 2.1. max min "
   ],
   "metadata": {}
  },
  {
   "cell_type": "code",
   "execution_count": 90,
   "source": [
    "A = [70, 43, 7, 46, 34, 77, 80, 35, 49, 3, 1, 5, 53, 3, 53]\r\n",
    "print(\"A = \", A)\r\n",
    "max_list = max(A)\r\n",
    "print(\"max(A) = \", max_list)\r\n",
    "min_list = min(A)\r\n",
    "print(\"min(A) = \", min_list)"
   ],
   "outputs": [
    {
     "output_type": "stream",
     "name": "stdout",
     "text": [
      "A =  [70, 43, 7, 46, 34, 77, 80, 35, 49, 3, 1, 5, 53, 3, 53]\n",
      "max(A) =  80\n",
      "min(A) =  1\n"
     ]
    }
   ],
   "metadata": {}
  },
  {
   "cell_type": "markdown",
   "source": [
    "## 2.2. Tính số phần tử trong list"
   ],
   "metadata": {}
  },
  {
   "cell_type": "code",
   "execution_count": 91,
   "source": [
    "A = [70, 43, 7, 46, 34, 77, 80, 35, 49, 3, 1, 5, 53, 3, 53]\r\n",
    "x = sum(A)\r\n",
    "print(\"sum A : \", x)"
   ],
   "outputs": [
    {
     "output_type": "stream",
     "name": "stdout",
     "text": [
      "sum A :  559\n"
     ]
    }
   ],
   "metadata": {}
  },
  {
   "cell_type": "markdown",
   "source": [
    "## 2.3. Tính tổng của các phần tử thứ 1, 2, 3, 5 trong list."
   ],
   "metadata": {}
  },
  {
   "cell_type": "code",
   "execution_count": 92,
   "source": [
    "A = [70, 43, 7, 46, 34, 77, 80, 35, 49, 3, 1, 5, 53, 3, 53]\r\n",
    "\r\n",
    "#1\r\n",
    "B = A[:3]\r\n",
    "B.append(A[5-1])\r\n",
    "\r\n",
    "print(\"B = \", B)\r\n",
    "print(\"sum(B) = \", sum(B))\r\n",
    "\r\n",
    "#2\r\n",
    "C = []\r\n",
    "index_lists = [1,2,3,5]\r\n",
    "for index in index_lists:\r\n",
    "    C.append(A[index-1])\r\n",
    "print(\"C = \", C)\r\n",
    "print(\"sum(C) = \",sum(C))"
   ],
   "outputs": [
    {
     "output_type": "stream",
     "name": "stdout",
     "text": [
      "B =  [70, 43, 7, 34]\n",
      "sum(B) =  154\n",
      "C =  [70, 43, 7, 34]\n",
      "sum(C) =  154\n"
     ]
    }
   ],
   "metadata": {}
  },
  {
   "cell_type": "markdown",
   "source": [
    "## 2.4. Chia list thành hai list, một chứa các số chẵn, một chứa các số lẻ.\r\n",
    "## 2.5. Hợp nhất hai list trên thành một list\r\n",
    "## 2.6. Tạo ra một list mới có thứ tự các phần tử đảo ngược với một list đã cho (không dùng hàmlist.reverse)"
   ],
   "metadata": {}
  },
  {
   "cell_type": "code",
   "execution_count": 131,
   "source": [
    "A = [70, 43, 7, 46, 34, 77, 80, 35, 49, 3, 1, 5, 53, 3, 53]\r\n",
    "# chia đôi list\r\n",
    "A_even_list = [] \r\n",
    "A_odd_list = []\r\n",
    "for index in range(0,len(A)):\r\n",
    "    if index % 2 == 0:\r\n",
    "        A_odd_list.append(A[index])\r\n",
    "    else:\r\n",
    "        A_even_list.append(A[index])\r\n",
    "\r\n",
    "print(\"A_even_list \\n\", A_even_list)\r\n",
    "print(\"A_odd_list \\n\", A_odd_list)\r\n",
    "\r\n",
    "# hợp nhất list\r\n",
    "merger_list = A_odd_list + A_even_list\r\n",
    "print(\"merger_list\\n\",merger_list)\r\n",
    "\r\n",
    "\r\n",
    "# đảo ngược 1\r\n",
    "print(\"=\"*80)\r\n",
    "print(\"A = \", A)\r\n",
    "\r\n",
    "reverse_A_1= []\r\n",
    "for index in range(0,len(A)):\r\n",
    "    reverse_A_1.append(A[len(A)-1-index])\r\n",
    "print(\"reverse_A_1 \\n\", reverse_A_1)\r\n",
    "\r\n",
    "# đảo ngược 2\r\n",
    "\r\n",
    "reverse_A_2 = A[::-1]\r\n",
    "\r\n",
    "print(\"reverse_A_2 \\n\", reverse_A_2)\r\n",
    "\r\n",
    "reversed(A)\r\n",
    "\r\n",
    "print(A)\r\n"
   ],
   "outputs": [
    {
     "output_type": "stream",
     "name": "stdout",
     "text": [
      "A_even_list \n",
      " [43, 46, 77, 35, 3, 5, 3]\n",
      "A_odd_list \n",
      " [70, 7, 34, 80, 49, 1, 53, 53]\n",
      "merger_list\n",
      " [70, 7, 34, 80, 49, 1, 53, 53, 43, 46, 77, 35, 3, 5, 3]\n",
      "================================================================================\n",
      "A =  [70, 43, 7, 46, 34, 77, 80, 35, 49, 3, 1, 5, 53, 3, 53]\n",
      "reverse_A_1 \n",
      " [53, 3, 53, 5, 1, 3, 49, 35, 80, 77, 34, 46, 7, 43, 70]\n",
      "reverse_A_2 \n",
      " [53, 3, 53, 5, 1, 3, 49, 35, 80, 77, 34, 46, 7, 43, 70]\n",
      "[70, 43, 7, 46, 34, 77, 80, 35, 49, 3, 1, 5, 53, 3, 53]\n"
     ]
    }
   ],
   "metadata": {}
  },
  {
   "cell_type": "markdown",
   "source": [
    "# 3. Nêu một số điểm khác nhau giữa list, Tuples, Dictionaries và Sets"
   ],
   "metadata": {}
  },
  {
   "cell_type": "markdown",
   "source": [
    "## 3.1. Cả list, tuple, dictionary, set đều là kiểu dữ liệu tập hợp(collection)"
   ],
   "metadata": {}
  },
  {
   "cell_type": "markdown",
   "source": [
    "## 3.1.1. LIST\r\n",
    "+ có thứ tự\r\n",
    "+ *có thể thay đổi*\r\n",
    "+ dữ liệu có thể trùng lặp\r\n",
    "+ **phần tử trong list có thể là *number*, *string*, hoặc *một list khác*.**\r\n",
    "+ index của list bắt đầu từ 0."
   ],
   "metadata": {}
  },
  {
   "cell_type": "code",
   "execution_count": 94,
   "source": [
    "list_A = [1, 4, 0 ,6, \"Python\",['a','b','c']]\r\n",
    "print(list_A)\r\n",
    "\r\n",
    "list_B = [i**3 for i in range(10)]\r\n",
    "print(list_B)\r\n",
    "\r\n",
    "list_C = list_B*2\r\n",
    "\r\n",
    "print(list_C)\r\n",
    "\r\n",
    "set_C = set(list_C)\r\n",
    "\r\n",
    "print(set_C)"
   ],
   "outputs": [
    {
     "output_type": "stream",
     "name": "stdout",
     "text": [
      "[1, 4, 0, 6, 'Python', ['a', 'b', 'c']]\n",
      "[0, 1, 8, 27, 64, 125, 216, 343, 512, 729]\n",
      "[0, 1, 8, 27, 64, 125, 216, 343, 512, 729, 0, 1, 8, 27, 64, 125, 216, 343, 512, 729]\n",
      "{0, 1, 64, 512, 8, 343, 216, 729, 27, 125}\n"
     ]
    }
   ],
   "metadata": {}
  },
  {
   "cell_type": "code",
   "execution_count": 95,
   "source": [
    "from collections import Counter\r\n",
    "first_check = ['a', 1, 'bc', 's',2,3]\r\n",
    "seconde_check = ['bc',1, 'a','s',3,2]\r\n",
    "third_check = [1,2,4,4,3,2,1,'a','a','b']\r\n",
    "print(set(third_check))\r\n",
    "print(\"check result = \", Counter(first_check) == Counter(seconde_check))"
   ],
   "outputs": [
    {
     "output_type": "stream",
     "name": "stdout",
     "text": [
      "{1, 2, 3, 4, 'b', 'a'}\n",
      "check result =  True\n"
     ]
    }
   ],
   "metadata": {}
  },
  {
   "cell_type": "markdown",
   "source": [
    "## 3.1.2. TUPLE\r\n",
    "+ có thứ tự\r\n",
    "+ *không thể thay đổi*\r\n",
    "+ dữ liệu có thể trùng lặp"
   ],
   "metadata": {}
  },
  {
   "cell_type": "markdown",
   "source": [
    "## 3.1.3. SET\r\n",
    "+ không có thứ tự\r\n",
    "+ không thể thay đổi\r\n",
    "+ dữ liệu không thể trùng lặp"
   ],
   "metadata": {}
  },
  {
   "cell_type": "code",
   "execution_count": 133,
   "source": [
    "a = [1,1,2,3,4,5]\r\n",
    "setA= {1,3,5,6}\r\n",
    "print(set(a))"
   ],
   "outputs": [
    {
     "output_type": "stream",
     "name": "stdout",
     "text": [
      "{1, 2, 3, 4, 5}\n"
     ]
    }
   ],
   "metadata": {}
  },
  {
   "cell_type": "markdown",
   "source": [
    "## 3.1.4. DICTIONARY\r\n",
    "+ không có thứ tự\r\n",
    "+ có thể thay đổi\r\n",
    "+ dữ liệu không thể trùng lặp"
   ],
   "metadata": {}
  },
  {
   "cell_type": "code",
   "execution_count": 134,
   "source": [
    "item_Name = [\"SSD\", 'Dell', \"8G\", 64]\r\n",
    "names = [\"Hard Disk\", \"Laptop\", \"RAM\", \"Bits\"]\r\n",
    "\r\n",
    "itemDictionary = dict(zip(item_Name, names))\r\n",
    "\r\n",
    "print(itemDictionary)\r\n",
    "\r\n",
    "dictex = {'py':'python', 'cpp':'C++', 'java':'Java'}\r\n",
    "print(dictex)"
   ],
   "outputs": [
    {
     "output_type": "stream",
     "name": "stdout",
     "text": [
      "{'SSD': 'Hard Disk', 'Dell': 'Laptop', '8G': 'RAM', 64: 'Bits'}\n",
      "{'py': 'python', 'cpp': 'C++', 'java': 'Java'}\n"
     ]
    }
   ],
   "metadata": {}
  },
  {
   "cell_type": "code",
   "execution_count": 97,
   "source": [
    "# empty list\r\n",
    "print(list())\r\n",
    "\r\n",
    "# vowel string\r\n",
    "vowel_string = 'aeiou   '\r\n",
    "print(list(vowel_string))\r\n",
    "\r\n",
    "# vowel tuple\r\n",
    "vowel_tuple = ('a', 'e', 'i', 'o', 'u','?','')\r\n",
    "print(list(vowel_tuple))\r\n",
    "\r\n",
    "# vowel list\r\n",
    "vowel_list = ['a', 'e', 'i', 'o', 'u']\r\n",
    "print(list(vowel_list))\r\n",
    "\r\n",
    "\r\n",
    "print(set(vowel_string))"
   ],
   "outputs": [
    {
     "output_type": "stream",
     "name": "stdout",
     "text": [
      "[]\n",
      "['a', 'e', 'i', 'o', 'u', ' ', ' ', ' ']\n",
      "['a', 'e', 'i', 'o', 'u', '?', '']\n",
      "['a', 'e', 'i', 'o', 'u']\n",
      "{'u', ' ', 'e', 'i', 'o', 'a'}\n"
     ]
    }
   ],
   "metadata": {}
  }
 ],
 "metadata": {
  "orig_nbformat": 4,
  "language_info": {
   "name": "python",
   "version": "3.9.7",
   "mimetype": "text/x-python",
   "codemirror_mode": {
    "name": "ipython",
    "version": 3
   },
   "pygments_lexer": "ipython3",
   "nbconvert_exporter": "python",
   "file_extension": ".py"
  },
  "kernelspec": {
   "name": "python3",
   "display_name": "Python 3.9.7 64-bit"
  },
  "interpreter": {
   "hash": "c7bee57b26c58cc7fda6ebbba85bbc81dac28551bf90007b61a71bf47794e6d8"
  }
 },
 "nbformat": 4,
 "nbformat_minor": 2
}