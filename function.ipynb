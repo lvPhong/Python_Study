{
 "cells": [
  {
   "cell_type": "markdown",
   "metadata": {},
   "source": [
    "# ASSIGNMENT 7 - FUNCTIONS"
   ]
  },
  {
   "cell_type": "code",
   "execution_count": 2,
   "metadata": {},
   "outputs": [],
   "source": [
    "import math\n",
    "import numpy as np\n",
    "import matplotlib.pyplot as plt"
   ]
  },
  {
   "cell_type": "markdown",
   "metadata": {},
   "source": [
    "## 1. equation solver"
   ]
  },
  {
   "cell_type": "code",
   "execution_count": 3,
   "metadata": {},
   "outputs": [],
   "source": [
    "import math\n",
    "\n",
    "def quadratic_equation_solutions(a, b, c):\n",
    "    \"\"\"This function returns real solutions of the quadratic equation ax^2 + bx + c = 0\n",
    "        with a, b and c are the real numbers.\n",
    "    \"\"\"\n",
    "\n",
    "    if a == 0: # bx + c = 0\n",
    "        if b == 0:\n",
    "            if c == 0:\n",
    "                return print(\"This equation has infinite solutions!\")\n",
    "            else:\n",
    "                return print(\"This equation has no real solutions!\")\n",
    "        else:\n",
    "            solution = -c/b\n",
    "            return (solution, )\n",
    "    else:\n",
    "        delta = b**2 - 4*a*c\n",
    "        if delta > 0:\n",
    "            solution_1 = (-b - math.sqrt(delta))/(2*a)\n",
    "            solution_2 = (-b + math.sqrt(delta))/(2*a)\n",
    "            return (solution_1, solution_2)\n",
    "        elif delta == 0:\n",
    "            solution = -b/(2*a)\n",
    "            return (solution, )\n",
    "        else:\n",
    "            return print(\"This equation has no real solutions!\")\n"
   ]
  },
  {
   "cell_type": "code",
   "execution_count": 4,
   "metadata": {},
   "outputs": [
    {
     "data": {
      "text/plain": [
       "(-1.0,)"
      ]
     },
     "execution_count": 4,
     "metadata": {},
     "output_type": "execute_result"
    }
   ],
   "source": [
    "quadratic_equation_solutions(1, 2, 1)"
   ]
  },
  {
   "cell_type": "markdown",
   "metadata": {},
   "source": [
    "## 2. Fibonacci numbers"
   ]
  },
  {
   "cell_type": "code",
   "execution_count": 5,
   "metadata": {},
   "outputs": [],
   "source": [
    "def fibonacci_number(num_th):\n",
    "\n",
    "    \"\"\"\n",
    "    This function returns the num_th fibonacci number(f_n), with:\n",
    "    f_0 = 0\n",
    "    f_1 = 1\n",
    "    f_(n) = f_(n-1) + f_(n-2), n >= 2\n",
    "    \"\"\"\n",
    "    if num_th < 0 or type(num_th) != int:\n",
    "        print(\"Enter a natural number to perform this function!\")\n",
    "    if num_th == 0:\n",
    "        return 0\n",
    "    if num_th == 1:\n",
    "        return 1\n",
    "    \n",
    "    f_n_2 = 0 \n",
    "    f_n_1 = 1 \n",
    "    # f_n = f_n_1 + f_n_2\n",
    "\n",
    "    for _ in range(2, num_th + 1):\n",
    "        f_n = f_n_2 + f_n_1\n",
    "        f_n_2, f_n_1 = f_n_1, f_n\n",
    "        \n",
    "    return f_n\n"
   ]
  },
  {
   "cell_type": "code",
   "execution_count": 30,
   "metadata": {},
   "outputs": [
    {
     "name": "stdout",
     "output_type": "stream",
     "text": [
      "[0, 1, 1, 2, 3, 5, 8, 13, 21, 34, 55]\n"
     ]
    }
   ],
   "source": [
    "x = [fibonacci_number(i) for i in range(11)]\n",
    "print(x)"
   ]
  },
  {
   "cell_type": "code",
   "execution_count": 33,
   "metadata": {},
   "outputs": [
    {
     "data": {
      "text/plain": [
       "33644764876431783266621612005107543310302148460680063906564769974680081442166662368155595513633734025582065332680836159373734790483865268263040892463056431887354544369559827491606602099884183933864652731300088830269235673613135117579297437854413752130520504347701602264758318906527890855154366159582987279682987510631200575428783453215515103870818298969791613127856265033195487140214287532698187962046936097879900350962302291026368131493195275630227837628441540360584402572114334961180023091208287046088923962328835461505776583271252546093591128203925285393434620904245248929403901706233888991085841065183173360437470737908552631764325733993712871937587746897479926305837065742830161637408969178426378624212835258112820516370298089332099905707920064367426202389783111470054074998459250360633560933883831923386783056136435351892133279732908133732642652633989763922723407882928177953580570993691049175470808931841056146322338217465637321248226383092103297701648054726243842374862411453093812206564914032751086643394517512161526545361333111314042436854805106765843493523836959653428071768775328348234345557366719731392746273629108210679280784718035329131176778924659089938635459327894523777674406192240337638674004021330343297496902028328145933418826817683893072003634795623117103101291953169794607632737589253530772552375943788434504067715555779056450443016640119462580972216729758615026968443146952034614932291105970676243268515992834709891284706740862008587135016260312071903172086094081298321581077282076353186624611278245537208532365305775956430072517744315051539600905168603220349163222640885248852433158051534849622434848299380905070483482449327453732624567755879089187190803662058009594743150052402532709746995318770724376825907419939632265984147498193609285223945039707165443156421328157688908058783183404917434556270520223564846495196112460268313970975069382648706613264507665074611512677522748621598642530711298441182622661057163515069260029861704945425047491378115154139941550671256271197133252763631939606902895650288268608362241082050562430701794976171121233066073310059947366875"
      ]
     },
     "execution_count": 33,
     "metadata": {},
     "output_type": "execute_result"
    }
   ],
   "source": [
    "fibonacci_number(10000)"
   ]
  },
  {
   "cell_type": "markdown",
   "metadata": {},
   "source": [
    "## 3. Probability of coprime integers"
   ]
  },
  {
   "cell_type": "markdown",
   "metadata": {},
   "source": [
    "### 3.1. Greatest common divisor"
   ]
  },
  {
   "cell_type": "code",
   "execution_count": 7,
   "metadata": {},
   "outputs": [],
   "source": [
    "def gcd(num_st, num_nd):\n",
    "    # num_st: first number, num_nd: second number\n",
    "    \"\"\"\n",
    "    This function returns the greatest common divisor of \n",
    "    num_st and num_nd natural number.\n",
    "    a = qb + r (0 <= r < b)\n",
    "    d = gcd(a, b) = gcd(b, a-qb) = gcd(b, r) = gcd(a, a % b)\n",
    "    \"\"\"\n",
    "    if num_st < 1 or num_st < 1 or \\\n",
    "        type(num_st) != int or type(num_nd) != int:\n",
    "        return print(\"Enter two natural numbers to perform this function!\")\n",
    "\n",
    "    if num_nd == 0:\n",
    "        return num_st\n",
    "    else:\n",
    "        return gcd(num_nd, num_st % num_nd)\n"
   ]
  },
  {
   "cell_type": "code",
   "execution_count": 8,
   "metadata": {},
   "outputs": [
    {
     "data": {
      "text/plain": [
       "6"
      ]
     },
     "execution_count": 8,
     "metadata": {},
     "output_type": "execute_result"
    }
   ],
   "source": [
    "gcd(192, 666)"
   ]
  },
  {
   "cell_type": "markdown",
   "metadata": {},
   "source": [
    "### 3.2. Probability of coprime integers"
   ]
  },
  {
   "cell_type": "code",
   "execution_count": 9,
   "metadata": {},
   "outputs": [
    {
     "name": "stdout",
     "output_type": "stream",
     "text": [
      "coprime_probability is:  0.608383\n"
     ]
    }
   ],
   "source": [
    "upper_number = 10**3\n",
    "\n",
    "all_pairs_leq_upper_number = upper_number*upper_number\n",
    "\n",
    "all_coprime_ = 0\n",
    "\n",
    "for num_st in range(1, upper_number + 1):\n",
    "    for num_nd in range(1, upper_number + 1):\n",
    "        if gcd(num_st, num_nd) == 1:\n",
    "            all_coprime_ += 1\n",
    "\n",
    "coprime_probability = all_coprime_ / all_pairs_leq_upper_number\n",
    "print(\"coprime_probability is: \", coprime_probability)"
   ]
  },
  {
   "cell_type": "code",
   "execution_count": 10,
   "metadata": {},
   "outputs": [
    {
     "name": "stdout",
     "output_type": "stream",
     "text": [
      "6/PI**2 =  0.6079271018540267\n"
     ]
    }
   ],
   "source": [
    "PI = math.pi\n",
    "coprime_probability_exactly = 6/PI**2\n",
    "print(\"6/PI**2 = \", coprime_probability_exactly)"
   ]
  },
  {
   "cell_type": "markdown",
   "metadata": {},
   "source": [
    "## 4.  EQUILATERAL TRIANGLES"
   ]
  },
  {
   "cell_type": "code",
   "execution_count": 11,
   "metadata": {},
   "outputs": [],
   "source": [
    "def rotation_about_a_point(rotation_center_point, rotation_degree, rotated_point):\n",
    "    \"\"\"\n",
    "    Rotate a point counter-clockwise by a given angle around a given origin(rotation_center_point).\n",
    "\n",
    "    rotation_center_point: (a, b), a tuple has two coordinates\n",
    "    rotated_point: (x, y)\n",
    "    rotation_degree: is the theta angle between (-pi + 2k*pi, pi + 2k*pi)(radians)\n",
    "    this function return a point (x', y') has form:\n",
    "\n",
    "    x' = (x - a)*cos(theta) - (y - b)*sin(theta) + a\n",
    "    y' = (x - a)*sin(theta) + (y - b)*cos(theta) + b\n",
    "\n",
    "    \"\"\"\n",
    "\n",
    "    x_rotation_center_point, y_rotation_center_point = rotation_center_point\n",
    "    x_rotated_point, y_rotated_point = rotated_point\n",
    "\n",
    "    # convert rotation degree to radians\n",
    "    rotation_angle_in_radian = math.radians(rotation_degree)\n",
    "    cos_theta = math.cos(rotation_angle_in_radian)\n",
    "    sin_theta = math.sin(rotation_angle_in_radian)\n",
    "\n",
    "    x_result = (x_rotated_point - x_rotation_center_point)*cos_theta\\\n",
    "                - (y_rotated_point - y_rotation_center_point)*sin_theta\\\n",
    "                + (x_rotation_center_point)\n",
    "    y_result = (x_rotated_point - x_rotation_center_point)*sin_theta\\\n",
    "                + (y_rotated_point - y_rotation_center_point)*cos_theta\\\n",
    "                + (y_rotation_center_point)\n",
    "    \n",
    "    result_point = (x_result, y_result)\n",
    "\n",
    "    return result_point"
   ]
  },
  {
   "cell_type": "code",
   "execution_count": 12,
   "metadata": {},
   "outputs": [
    {
     "data": {
      "text/plain": [
       "(1.0000000000000002, 1.7320508075688772)"
      ]
     },
     "execution_count": 12,
     "metadata": {},
     "output_type": "execute_result"
    }
   ],
   "source": [
    "# example\n",
    "rotation_about_a_point((0, 0), 60, (2, 0))"
   ]
  },
  {
   "cell_type": "code",
   "execution_count": 13,
   "metadata": {},
   "outputs": [
    {
     "data": {
      "text/plain": [
       "(1.0000000000000002, -1.7320508075688772)"
      ]
     },
     "execution_count": 13,
     "metadata": {},
     "output_type": "execute_result"
    }
   ],
   "source": [
    "rotation_about_a_point((0, 0), -60, (2, 0))"
   ]
  },
  {
   "cell_type": "markdown",
   "metadata": {},
   "source": [
    ">4.a. find remain points of equilateral triangle known two points other."
   ]
  },
  {
   "cell_type": "code",
   "execution_count": 14,
   "metadata": {},
   "outputs": [],
   "source": [
    "def find_remain_points_of_equilateral_triangle(first_point, second_point):\n",
    "    \"\"\"\n",
    "    This funtions return the remain point of the equilateral triangle,\n",
    "    had known two points: first_point and second_point.\n",
    "\n",
    "    remain_point is the second_point that rotate about a first_point with\n",
    "    rotate degree is 60 or -60.\n",
    "    \"\"\"\n",
    "    if first_point == second_point:\n",
    "        return print(\"Enter two different points to perform this function!\")\n",
    "\n",
    "    equilateral_triangle_degree1 = 60\n",
    "    remain_point_1 = rotation_about_a_point(first_point, equilateral_triangle_degree1, second_point)\n",
    "\n",
    "    equilateral_triangle_degree2 = -60\n",
    "    remain_point_2 = rotation_about_a_point(first_point, equilateral_triangle_degree2, second_point)\n",
    "\n",
    "    result_points = [remain_point_1, remain_point_2]\n",
    "\n",
    "    return result_points"
   ]
  },
  {
   "cell_type": "code",
   "execution_count": 15,
   "metadata": {},
   "outputs": [
    {
     "name": "stdout",
     "output_type": "stream",
     "text": [
      "remain_points_of_equilateral_triangle((0, 0), (2, 0)):\n",
      " [(1.0000000000000002, 1.7320508075688772), (1.0000000000000002, -1.7320508075688772)]\n"
     ]
    }
   ],
   "source": [
    "points_set = find_remain_points_of_equilateral_triangle((0, 0), (2, 0))\n",
    "print(\"remain_points_of_equilateral_triangle((0, 0), (2, 0)):\\n\",points_set)"
   ]
  },
  {
   "cell_type": "markdown",
   "metadata": {},
   "source": [
    ">4.b. check triangles is the equilateral triangle?"
   ]
  },
  {
   "cell_type": "code",
   "execution_count": 16,
   "metadata": {},
   "outputs": [],
   "source": [
    "def distance(first_point, second_point):\n",
    "\n",
    "    x_first_point, y_first_point = first_point\n",
    "    x_second_point, y_second_point = second_point\n",
    "\n",
    "    distance2 = (x_first_point - x_second_point)**2 + (y_first_point - y_second_point)**2\n",
    "    distance = math.sqrt(distance2)\n",
    "    \n",
    "    return distance"
   ]
  },
  {
   "cell_type": "code",
   "execution_count": 17,
   "metadata": {},
   "outputs": [],
   "source": [
    "def is_equilateral_triangle(first_point, second_point, third_point, error_distance = 1e-15):\n",
    "\n",
    "    set_points = {first_point, second_point, third_point}\n",
    "\n",
    "    if len(set_points) in [1, 2]:\n",
    "        return print(\"Enter three different points to perform this function!\")\n",
    "\n",
    "    # check three_point in checked_three_points, if distance between them is approx error_distance\n",
    "    checked_three_points = find_remain_points_of_equilateral_triangle(first_point, second_point)\n",
    "\n",
    "    if third_point in checked_three_points:\n",
    "        return True\n",
    "    else:\n",
    "        if distance(checked_three_points[0], third_point) < error_distance or\\\n",
    "           distance(checked_three_points[1], third_point) < error_distance:\n",
    "            return True\n",
    "        else:\n",
    "            return False"
   ]
  },
  {
   "cell_type": "code",
   "execution_count": 18,
   "metadata": {},
   "outputs": [
    {
     "data": {
      "text/plain": [
       "True"
      ]
     },
     "execution_count": 18,
     "metadata": {},
     "output_type": "execute_result"
    }
   ],
   "source": [
    "is_equilateral_triangle((0, 0), (2, 0), (1, math.sqrt(3)))"
   ]
  },
  {
   "cell_type": "code",
   "execution_count": 19,
   "metadata": {},
   "outputs": [
    {
     "data": {
      "text/plain": [
       "False"
      ]
     },
     "execution_count": 19,
     "metadata": {},
     "output_type": "execute_result"
    }
   ],
   "source": [
    "is_equilateral_triangle((0, 0), (2, 0), (2, math.sqrt(3)))"
   ]
  },
  {
   "cell_type": "markdown",
   "metadata": {},
   "source": [
    ">4.c. Plot triangle"
   ]
  },
  {
   "cell_type": "code",
   "execution_count": 20,
   "metadata": {},
   "outputs": [],
   "source": [
    "import matplotlib.pyplot as plt\n",
    "\n",
    "\n",
    "def plot_triangle(list_points):\n",
    "    # each point has two coornidates : (x, y)\n",
    "    x_point_list = []\n",
    "    y_point_list = []\n",
    "\n",
    "    list_points.append(list_points[0])\n",
    "    \n",
    "    for point in list_points:\n",
    "        x_point_list.append(point[0])\n",
    "        y_point_list.append(point[1])\n",
    "\n",
    "    x_axis_min, x_axis_max = min(x_point_list), max(x_point_list)\n",
    "    y_axis_min, y_axis_max = min(y_point_list), max(y_point_list)\n",
    "\n",
    "    plt.axis([x_axis_min - 1, x_axis_max + 1, y_axis_min - 1, y_axis_max + 1])\n",
    "    \n",
    "    plt.plot(x_point_list, y_point_list)\n",
    "    plt.scatter(x_point_list, y_point_list, color = \"red\")\n",
    "\n",
    "    plt.title('Triangle')\n",
    "    plt.grid(True)\n",
    "    plt.show()\n",
    "\n",
    "    return plt.savefig(\"triangle.eps\")"
   ]
  },
  {
   "cell_type": "code",
   "execution_count": 21,
   "metadata": {},
   "outputs": [
    {
     "data": {
      "image/png": "[encoded data removed]",
      "text/plain": [
       "<Figure size 432x288 with 1 Axes>"
      ]
     },
     "metadata": {
      "needs_background": "light"
     },
     "output_type": "display_data"
    },
    {
     "data": {
      "text/plain": [
       "<Figure size 432x288 with 0 Axes>"
      ]
     },
     "metadata": {},
     "output_type": "display_data"
    }
   ],
   "source": [
    "list_points = [(0, 0), (2, 0), (5, 7)]\n",
    "plot_triangle(list_points)\n"
   ]
  },
  {
   "cell_type": "markdown",
   "metadata": {},
   "source": [
    "## 5. Squares"
   ]
  },
  {
   "cell_type": "code",
   "execution_count": 22,
   "metadata": {},
   "outputs": [],
   "source": [
    "def mid_point(first_point, second_point):\n",
    "    first_point_x, second_point_x = first_point[0], second_point[0]\n",
    "    first_point_y, second_point_y = first_point[1], second_point[1]\n",
    "\n",
    "    mid_point_x = (first_point_x + second_point_x)/2\n",
    "    mid_point_y = (first_point_y + second_point_y)/2\n",
    "\n",
    "    mid_point = (mid_point_x, mid_point_y)\n",
    "\n",
    "    return mid_point"
   ]
  },
  {
   "cell_type": "code",
   "execution_count": 23,
   "metadata": {},
   "outputs": [],
   "source": [
    "def find_remain_points_of_squares(first_point, second_point):\n",
    "    \"\"\"\n",
    "    This funtions return the remain point of the square,\n",
    "    had known two points: first_point and second_point.\n",
    "    \"\"\"\n",
    "    if first_point == second_point:\n",
    "        return print(\"Enter two different points to perform this function!\")\n",
    "\n",
    "    # case 1:\n",
    "    square_angle_3_1 = 270\n",
    "    square_angle_4_1 = 90\n",
    "    \n",
    "    remain_point_3_1 = rotation_about_a_point(second_point, square_angle_3_1, first_point)\n",
    "    remain_point_4_1 = rotation_about_a_point(first_point, square_angle_4_1, second_point)\n",
    "\n",
    "    result_case_1 = [remain_point_3_1, remain_point_4_1]\n",
    "    \n",
    "    # case 2: \n",
    "    square_angle_3_2 = 180\n",
    "    square_angle_4_2 = 180\n",
    "\n",
    "    remain_point_3_2 = rotation_about_a_point(second_point, square_angle_3_2, remain_point_3_1)\n",
    "    remain_point_4_2 = rotation_about_a_point(first_point, square_angle_4_2, remain_point_4_1)\n",
    "    \n",
    "    result_case_2 = [remain_point_3_2, remain_point_4_2]\n",
    "\n",
    "    # case 3: \n",
    "    mid_point_first_second = mid_point(first_point, second_point)\n",
    "    \n",
    "    square_angle_3_3 = 270\n",
    "    square_angle_4_3 = 90\n",
    "    \n",
    "    remain_point_3_3 = rotation_about_a_point(mid_point_first_second, square_angle_3_3, first_point)\n",
    "    remain_point_4_3 = rotation_about_a_point(mid_point_first_second, square_angle_4_3, first_point)\n",
    "\n",
    "    result_case_3 = [remain_point_3_3, remain_point_4_3]\n",
    "\n",
    "    # all results\n",
    "    result_points = [result_case_1, result_case_2, result_case_3]\n",
    "\n",
    "    return result_points"
   ]
  },
  {
   "cell_type": "code",
   "execution_count": 24,
   "metadata": {},
   "outputs": [
    {
     "name": "stdout",
     "output_type": "stream",
     "text": [
      "find_remain_points_of_squares((0, 0), (2, 0)) :\n",
      " [[(2.0000000000000004, 2.0), (1.2246467991473532e-16, 2.0)], [(1.9999999999999993, -2.0), (-3.6739403974420594e-16, -2.0)], [(1.0000000000000002, 1.0), (0.9999999999999999, -1.0)]]\n"
     ]
    }
   ],
   "source": [
    "print(\"find_remain_points_of_squares((0, 0), (2, 0)) :\\n\", find_remain_points_of_squares((0, 0), (2, 0)))"
   ]
  },
  {
   "cell_type": "code",
   "execution_count": 25,
   "metadata": {},
   "outputs": [],
   "source": [
    "def plot_triangle(list_points):\n",
    "    # each point has two coornidates : (x, y)\n",
    "    x_point_list = []\n",
    "    y_point_list = []\n",
    "\n",
    "    # add first point to last list for plot a line from first point to last point\n",
    "    list_points.append(list_points[0])\n",
    "    \n",
    "    for point in list_points:\n",
    "        x_point_list.append(point[0])\n",
    "        y_point_list.append(point[1])\n",
    "\n",
    "    x_axis_min, x_axis_max = min(x_point_list), max(x_point_list)\n",
    "    y_axis_min, y_axis_max = min(y_point_list), max(y_point_list)\n",
    "\n",
    "    plt.axis([x_axis_min - 1, x_axis_max + 1, y_axis_min - 1, y_axis_max + 1])\n",
    "    \n",
    "    plt.plot(x_point_list, y_point_list)\n",
    "    plt.scatter(x_point_list, y_point_list, color = \"red\")\n",
    "\n",
    "    plt.title('Triangle')\n",
    "    plt.grid(True)\n",
    "    plt.show()\n",
    "\n",
    "    return plt.savefig(\"triangle.eps\")"
   ]
  },
  {
   "cell_type": "code",
   "execution_count": 26,
   "metadata": {},
   "outputs": [
    {
     "data": {
      "image/png": "[encoded data removed]",
      "text/plain": [
       "<Figure size 432x288 with 1 Axes>"
      ]
     },
     "metadata": {
      "needs_background": "light"
     },
     "output_type": "display_data"
    },
    {
     "data": {
      "text/plain": [
       "<Figure size 432x288 with 0 Axes>"
      ]
     },
     "metadata": {},
     "output_type": "display_data"
    }
   ],
   "source": [
    "plot_triangle([(0, 0), (2, 0), (3, 4)])"
   ]
  },
  {
   "cell_type": "markdown",
   "metadata": {},
   "source": [
    "## 6. Simple Calculator"
   ]
  },
  {
   "cell_type": "code",
   "execution_count": null,
   "metadata": {},
   "outputs": [],
   "source": []
  },
  {
   "cell_type": "markdown",
   "metadata": {},
   "source": [
    "## 7. Large Sum"
   ]
  },
  {
   "cell_type": "markdown",
   "metadata": {},
   "source": [
    "### Work out the first ten digits of the sum of the following one-hundred 50-digit numbers."
   ]
  },
  {
   "cell_type": "code",
   "execution_count": 34,
   "metadata": {},
   "outputs": [
    {
     "name": "stdout",
     "output_type": "stream",
     "text": [
      "the first ten digits of the sum is : 5537376230\n"
     ]
    }
   ],
   "source": [
    "with open(\"large_sum.txt\") as large_sum_file:\n",
    "    lines = large_sum_file.readlines()\n",
    "\n",
    "all_nums_sum = 0\n",
    "for line in lines:\n",
    "    number = int(line)\n",
    "    all_nums_sum += number\n",
    "\n",
    "digits_of_sum = str(all_nums_sum)\n",
    "num_digits = 10\n",
    "print(\"the first ten digits of the sum is :\", digits_of_sum[0:num_digits])"
   ]
  }
 ],
 "metadata": {
  "interpreter": {
   "hash": "c7bee57b26c58cc7fda6ebbba85bbc81dac28551bf90007b61a71bf47794e6d8"
  },
  "kernelspec": {
   "display_name": "Python 3.9.7 64-bit",
   "name": "python3"
  },
  "language_info": {
   "codemirror_mode": {
    "name": "ipython",
    "version": 3
   },
   "file_extension": ".py",
   "mimetype": "text/x-python",
   "name": "python",
   "nbconvert_exporter": "python",
   "pygments_lexer": "ipython3",
   "version": "3.9.7"
  },
  "orig_nbformat": 4
 },
 "nbformat": 4,
 "nbformat_minor": 2
}
