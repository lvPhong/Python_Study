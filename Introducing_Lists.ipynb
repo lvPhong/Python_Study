{
 "cells": [
  {
   "cell_type": "markdown",
   "source": [
    "# Introducing Lists\r\n",
    "\r\n",
    "## 1. Tạo một list gồm các số nguyên tố bé hơn 20."
   ],
   "metadata": {}
  },
  {
   "cell_type": "markdown",
   "source": [
    "> Kiểm tra xem trong list() trên số nào là số nguyên tố\r\n",
    "\r\n",
    ">>Nếu n >3, thì để n là số nguyên tố thì n chỉ có dạng \r\n",
    "\r\n",
    "+ n = 6*k + 1\r\n",
    "\r\n",
    "+ n = 6*k + 5\r\n",
    "\r\n",
    "* Xét n = i*j (với i <= j ) thì i <= sqrt(n)"
   ],
   "metadata": {}
  },
  {
   "cell_type": "markdown",
   "source": [
    ">Numpy (Numeric Python): là một thư viện toán học phổ biến và mạnh mẽ của Python. Cho phép làm việc hiệu quả với ma trận và mảng, đặc biệt là dữ liệu ma trận và mảng lớn với tốc độ xử lý nhanh hơn nhiều lần khi chỉ sử dụng “core Python” đơn thuần."
   ],
   "metadata": {}
  },
  {
   "cell_type": "code",
   "execution_count": 1,
   "source": [
    "# Hàm check số nguyên tố\r\n",
    "\r\n",
    "# Khai báo thư viện numpy(Numeric Python)\r\n",
    "import numpy as np \r\n",
    "import math\r\n",
    "\r\n",
    "def check_number_prime(n):\r\n",
    "    if n < 2:\r\n",
    "        return False\r\n",
    "    elif n == 2 or n == 3:\r\n",
    "        return True\r\n",
    "    # n >=4, n = 6k+1 or n = 6k+5\r\n",
    "    elif (n-1) % 6 == 0 or (n-5) % 6 == 0:\r\n",
    "        for i in range(5, math.floor(np.sqrt(n))+1):\r\n",
    "            if n % i == 0:\r\n",
    "                return False\r\n",
    "        return True\r\n",
    "    # n >=4, n chia hết cho 2 hoặc 3\r\n",
    "    else: \r\n",
    "        return False"
   ],
   "outputs": [],
   "metadata": {}
  },
  {
   "cell_type": "markdown",
   "source": [
    "i <= int(np.sqrt(n))"
   ],
   "metadata": {}
  },
  {
   "cell_type": "code",
   "execution_count": 2,
   "source": [
    "import math\r\n",
    "x = math.floor(-3.56)\r\n",
    "\r\n",
    "y = math.floor(2.4)\r\n",
    "\r\n",
    "print(y)\r\n",
    "print(x)\r\n",
    "\r\n",
    "print(math.ceil(-3.25))\r\n",
    "\r\n",
    "print(math.ceil(2.4))"
   ],
   "outputs": [
    {
     "output_type": "stream",
     "name": "stdout",
     "text": [
      "2\n",
      "-4\n",
      "-3\n",
      "3\n"
     ]
    }
   ],
   "metadata": {}
  },
  {
   "cell_type": "markdown",
   "source": [
    ">>check hàm check_number_prime()"
   ],
   "metadata": {}
  },
  {
   "cell_type": "code",
   "execution_count": 3,
   "source": [
    "from random import random\r\n",
    "\r\n",
    "random_number = int(1000*random())\r\n",
    "print(random_number)\r\n",
    "\r\n",
    "print(check_number_prime(random_number))\r\n",
    "\r\n",
    "check_number_prime(29)"
   ],
   "outputs": [
    {
     "output_type": "stream",
     "name": "stdout",
     "text": [
      "642\n",
      "False\n"
     ]
    },
    {
     "output_type": "execute_result",
     "data": {
      "text/plain": [
       "True"
      ]
     },
     "metadata": {},
     "execution_count": 3
    }
   ],
   "metadata": {}
  },
  {
   "cell_type": "markdown",
   "source": [
    ">list gồm các số nguyên tố bé hơn 20"
   ],
   "metadata": {}
  },
  {
   "cell_type": "code",
   "execution_count": 4,
   "source": [
    "numbers_prime_list = [] # tạo 1 mảng rỗng\r\n",
    "\r\n",
    "for n in range(1,20):\r\n",
    "    if check_number_prime(n) == True:\r\n",
    "        numbers_prime_list.append(n) # chèn thêm số n vào mảng numbers_prime_list\r\n",
    "\r\n",
    "# in ra list cần tìm\r\n",
    "print(numbers_prime_list)\r\n",
    "\r\n",
    "print(len(numbers_prime_list))"
   ],
   "outputs": [
    {
     "output_type": "stream",
     "name": "stdout",
     "text": [
      "[2, 3, 5, 7, 11, 13, 17, 19]\n",
      "8\n"
     ]
    }
   ],
   "metadata": {}
  },
  {
   "cell_type": "markdown",
   "source": [
    "## 2. Thay giá trị tại vị trí thứ 3 của list ở trên bởi bình phương của chính giá trị đó"
   ],
   "metadata": {}
  },
  {
   "cell_type": "code",
   "execution_count": 5,
   "source": [
    "A = numbers_prime_list[:] # A chính là bản sao của numbers_prime_list\r\n",
    "\r\n",
    "print(A)\r\n",
    "\r\n",
    "print(\"len(A) = \"+ str(len(A)))\r\n",
    "\r\n",
    "index = 3-1\r\n",
    "\r\n",
    "A[index] **= 2  # A[2] ^ 2\r\n",
    "\r\n",
    "print(A)"
   ],
   "outputs": [
    {
     "output_type": "stream",
     "name": "stdout",
     "text": [
      "[2, 3, 5, 7, 11, 13, 17, 19]\n",
      "len(A) = 8\n",
      "[2, 3, 25, 7, 11, 13, 17, 19]\n"
     ]
    }
   ],
   "metadata": {}
  },
  {
   "cell_type": "markdown",
   "source": [
    "## 3. Thêm vào list A một phần tử có giá trị bằng với bình phương của phần tử cuối cùng của list A. \r\n",
    "+ Bạn sẽ sử dụng hàm *insert* hay hàm *append*? \r\n",
    "+ Hãy giải thích sự khác nhau giữa hai hàm này"
   ],
   "metadata": {}
  },
  {
   "cell_type": "code",
   "execution_count": 6,
   "source": [
    "# Thêm vào list A một phần tử có giá trị bằng với bình phương của phần tử cuối cùng của list A\r\n",
    "\r\n",
    "index = len(A) - 1\r\n",
    "added_number = A[index]\r\n",
    "\r\n",
    "# append() \r\n",
    "A.append(added_number ** 2)\r\n",
    "print(A)\r\n",
    "\r\n",
    "# insert()\r\n",
    "A.insert(len(A)-1, added_number**2)\r\n",
    "print(A)\r\n"
   ],
   "outputs": [
    {
     "output_type": "stream",
     "name": "stdout",
     "text": [
      "[2, 3, 25, 7, 11, 13, 17, 19, 361]\n",
      "[2, 3, 25, 7, 11, 13, 17, 19, 361, 361]\n"
     ]
    }
   ],
   "metadata": {}
  },
  {
   "cell_type": "code",
   "execution_count": 7,
   "source": [
    "check = [1,2, 3, 4, 5]\r\n",
    "check.insert(-1, 100)\r\n",
    "\r\n",
    "print(check)"
   ],
   "outputs": [
    {
     "output_type": "stream",
     "name": "stdout",
     "text": [
      "[1, 2, 3, 4, 100, 5]\n"
     ]
    }
   ],
   "metadata": {}
  },
  {
   "cell_type": "markdown",
   "source": [
    "### A.append(n) : chèn thêm giá trị n làm phần tử cuối \"mới\" của list A\r\n",
    "\r\n",
    "### A.insert(index, number): chèn thêm giá trị *number* vào vị trí *index* của mảng A"
   ],
   "metadata": {}
  },
  {
   "cell_type": "markdown",
   "source": [
    "## 4. Xóa phần tử thứ 3 của list A bằng ít nhất hai cách khác nhau "
   ],
   "metadata": {}
  },
  {
   "cell_type": "code",
   "execution_count": 8,
   "source": [
    "print(A)\r\n",
    "\r\n",
    "# delete\r\n",
    "index_del = 3-1\r\n",
    "print(\"Value index_del: \" + str(A[index_del]))\r\n",
    "del A[index_del]\r\n",
    "print(A)\r\n",
    "\r\n",
    "# remove\r\n",
    "value_remove = A[index_del]\r\n",
    "print(\"Value_remove: \" + str(value_remove))\r\n",
    "A.remove(value_remove)\r\n",
    "print(A)\r\n"
   ],
   "outputs": [
    {
     "output_type": "stream",
     "name": "stdout",
     "text": [
      "[2, 3, 25, 7, 11, 13, 17, 19, 361, 361]\n",
      "Value index_del: 25\n",
      "[2, 3, 7, 11, 13, 17, 19, 361, 361]\n",
      "Value_remove: 7\n",
      "[2, 3, 11, 13, 17, 19, 361, 361]\n"
     ]
    }
   ],
   "metadata": {}
  },
  {
   "cell_type": "markdown",
   "source": [
    "## 5. Sắp xếp list A theo thứ tự giảm dần từ trái qua phải. "
   ],
   "metadata": {}
  },
  {
   "cell_type": "code",
   "execution_count": 9,
   "source": [
    "# sort(): sắp xếp tăng dần(vĩnh viễn)\r\n",
    "# sorted(): sắp xếp (tạm thời) trong tình huống sử dụng nhưng giữ nguyên list\r\n",
    "print(A)\r\n",
    "B = sorted(A)\r\n",
    "print(B)\r\n",
    "#\r\n",
    "A.sort()\r\n",
    "print(A)\r\n",
    "\r\n",
    "# Trial\r\n",
    "trial_list = [1, 4, 0, 6, 1, 9, 9, 8]\r\n",
    "\r\n",
    "\r\n",
    "print(trial_list)\r\n",
    "\r\n",
    "sorted_trial_list = sorted(trial_list)\r\n",
    "print(sorted_trial_list)\r\n",
    "\r\n",
    "trial_list.sort()\r\n",
    "print(trial_list)\r\n"
   ],
   "outputs": [
    {
     "output_type": "stream",
     "name": "stdout",
     "text": [
      "[2, 3, 11, 13, 17, 19, 361, 361]\n",
      "[2, 3, 11, 13, 17, 19, 361, 361]\n",
      "[2, 3, 11, 13, 17, 19, 361, 361]\n",
      "[1, 4, 0, 6, 1, 9, 9, 8]\n",
      "[0, 1, 1, 4, 6, 8, 9, 9]\n",
      "[0, 1, 1, 4, 6, 8, 9, 9]\n"
     ]
    }
   ],
   "metadata": {}
  },
  {
   "cell_type": "markdown",
   "source": [
    "## 6.Tính độ dài của hai list A và list B để thấy rằng sau khi sắp xếp, số phần tử của một list không thay đổi."
   ],
   "metadata": {}
  },
  {
   "cell_type": "code",
   "execution_count": 10,
   "source": [
    "# A\r\n",
    "print(\"A : \" + str(A))\r\n",
    "len_A = len(A)\r\n",
    "print(\"len(A): \" + str(len_A))\r\n",
    "\r\n",
    "#B\r\n",
    "print(\"B : \" + str(B))\r\n",
    "len_B = len(B)\r\n",
    "print(\"len(B):\" + str(len(B)))\r\n"
   ],
   "outputs": [
    {
     "output_type": "stream",
     "name": "stdout",
     "text": [
      "A : [2, 3, 11, 13, 17, 19, 361, 361]\n",
      "len(A): 8\n",
      "B : [2, 3, 11, 13, 17, 19, 361, 361]\n",
      "len(B):8\n"
     ]
    }
   ],
   "metadata": {}
  },
  {
   "cell_type": "markdown",
   "source": [
    "## 7. Ghép hai list A và list B lại với nhau"
   ],
   "metadata": {}
  },
  {
   "cell_type": "code",
   "execution_count": 11,
   "source": [
    "print(A)\r\n",
    "print(B)\r\n",
    "\r\n",
    "#1\r\n",
    "merger_list_1 = A + B\r\n",
    "print(merger_list_1)\r\n",
    "\r\n",
    "#2\r\n",
    "merger_list_2 = []\r\n",
    "merger_list_2 += (A + B)\r\n",
    "print(merger_list_2)\r\n",
    "\r\n",
    "#3 : sử dụng extend() để list thêm phần kết thúc của phần khác:\r\n",
    "merger_list_3 = []\r\n",
    "merger_list_3.extend(A)\r\n",
    "merger_list_3.extend(B)\r\n",
    "print(merger_list_3)\r\n",
    "\r\n",
    "\r\n"
   ],
   "outputs": [
    {
     "output_type": "stream",
     "name": "stdout",
     "text": [
      "[2, 3, 11, 13, 17, 19, 361, 361]\n",
      "[2, 3, 11, 13, 17, 19, 361, 361]\n",
      "[2, 3, 11, 13, 17, 19, 361, 361, 2, 3, 11, 13, 17, 19, 361, 361]\n",
      "[2, 3, 11, 13, 17, 19, 361, 361, 2, 3, 11, 13, 17, 19, 361, 361]\n",
      "[2, 3, 11, 13, 17, 19, 361, 361, 2, 3, 11, 13, 17, 19, 361, 361]\n"
     ]
    }
   ],
   "metadata": {}
  }
 ],
 "metadata": {
  "orig_nbformat": 4,
  "language_info": {
   "name": "python",
   "version": "3.9.7",
   "mimetype": "text/x-python",
   "codemirror_mode": {
    "name": "ipython",
    "version": 3
   },
   "pygments_lexer": "ipython3",
   "nbconvert_exporter": "python",
   "file_extension": ".py"
  },
  "kernelspec": {
   "name": "python3",
   "display_name": "Python 3.9.7 64-bit"
  },
  "interpreter": {
   "hash": "b886b5280b501e3436a9bf352cc27bb3d28308ddfa97e0a72d4005e9cd08738e"
  }
 },
 "nbformat": 4,
 "nbformat_minor": 2
}